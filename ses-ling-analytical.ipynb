{
 "cells": [
  {
   "attachments": {},
   "cell_type": "markdown",
   "metadata": {},
   "source": [
    "# Setup"
   ]
  },
  {
   "cell_type": "code",
   "execution_count": 50,
   "metadata": {
    "vscode": {
     "languageId": "wolfram"
    }
   },
   "outputs": [],
   "source": [
    "(* ResourceFunction[\"MaTeXInstall\"][] *)\n",
    "<<MaTeX`"
   ]
  },
  {
   "cell_type": "code",
   "execution_count": 52,
   "metadata": {
    "vscode": {
     "languageId": "wolfram"
    }
   },
   "outputs": [],
   "source": [
    "cm = 72 / 2.54;\n",
    "texStyle = {FontFamily -> \"Latin Modern Roman\", FontSize -> 10};\n",
    "texTextStyle = {FontFamily -> \"Latin Modern Sans\", FontSize -> 12};"
   ]
  },
  {
   "cell_type": "code",
   "execution_count": 55,
   "metadata": {
    "vscode": {
     "languageId": "wolfram"
    }
   },
   "outputs": [],
   "source": [
    "m1 = N1 M1 / (N1 M1 + N2 * (1 - M2));\n",
    "m2 = N2 M2 / (N2 M2 + N1 * (1 - M1));\n",
    "P12s1 = l (1 - q1) ((1 - M1) ((1 - m2) (1 - p1) + m2 p2) + M1 (m1 (1 - p1) + (1 - m1) p2));\n",
    "P12s2 = l q2 (M2 ((1 - m2) (1 - p1) + m2 p2) + (1 - M2) (m1 (1 - p1) + (1 - m1) p2));\n",
    "P21s1 = (1 - l) q1 ((1 - M1) ((1 - m2) p1 + m2 (1 - p2)) + M1 (m1 p1 + (1 - m1) (1 - p2)));\n",
    "P21s2 = (1 - l) (1 - q2) (M2 ((1 - m2) p1 + m2 (1 - p2)) + (1 - M2) (m1 p1 + (1 - m1) (1 - p2)));"
   ]
  },
  {
   "cell_type": "code",
   "execution_count": 61,
   "metadata": {
    "vscode": {
     "languageId": "wolfram"
    }
   },
   "outputs": [],
   "source": [
    "p1eq = (1 - p1) P21s1 - p1 P12s1;\n",
    "p2eq = (1 - p2) P12s2 - p2 P21s2;"
   ]
  },
  {
   "cell_type": "code",
   "execution_count": 63,
   "metadata": {
    "vscode": {
     "languageId": "wolfram"
    }
   },
   "outputs": [],
   "source": [
    "eigenGeneric = Eigenvalues[D[{p1eq, p2eq}, {{p1, p2}}]];"
   ]
  },
  {
   "attachments": {},
   "cell_type": "markdown",
   "metadata": {},
   "source": [
    "# Equal pop and mobility"
   ]
  },
  {
   "cell_type": "code",
   "execution_count": 64,
   "metadata": {
    "vscode": {
     "languageId": "wolfram"
    }
   },
   "outputs": [
    {
     "data": {
      "text/html": [
       "<style>\n",
       "\t\t\t\t\t\t\t\t\t\t\t\t\t.grid-container {\n",
       "\t\t\t\t\t\t\t\t\t\t\t\t\t\tdisplay: inline-grid;\n",
       "\t\t\t\t\t\t\t\t\t\t\t\t\t\tgrid-template-columns: auto;\n",
       "\t\t\t\t\t\t\t\t\t\t\t\t\t}\n",
       "\t\t\t\t\t\t\t\t\t\t\t\t</style>\n",
       "\n",
       "\t\t\t\t\t\t\t\t\t\t\t\t<div><div class=\"grid-container\"><div class=\"grid-item\"><img alt=\"Output\" src=\"data:image/png;base64,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\"></div><div class=\"grid-item\"><img alt=\"Output\" src=\"data:image/png;base64,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\"></div></div></div>"
      ],
      "text/plain": [
       "                                            2\n",
       "-((-1 + p1) (p1 - 2 M1 (-1 + p1 + p2) + 2 M1  (-1 + p1 + p2)) q1) + \n",
       " \n",
       "                       2    2\n",
       ">   l ((1 - 2 M1 + 2 M1 ) p1  + 2 M1 (-1 + M1 + p2 - M1 p2) q1 + \n",
       " \n",
       "                    2\n",
       ">      p1 (-1 + 2 M1  (-1 + p2 - q1) + M1 (2 - 2 p2 + 2 q1)))\n",
       "                             2\n",
       "-((-1 - 2 M1 (-1 + p1) + 2 M1  (-1 + p1)) p2 (-1 + q2)) + \n",
       " \n",
       "                                                    2    2\n",
       ">   2 l (-1 + M1) M1 (-1 + p1) q2 - (1 - 2 M1 + 2 M1 ) p2  (-1 + l + q2) + \n",
       " \n",
       "                                      2\n",
       ">   l p2 (1 + 2 M1 (-1 + p1 - q2) + M1  (2 - 2 p1 + 2 q2))"
      ]
     },
     "execution_count": 66,
     "metadata": {
      "text/html": [],
      "text/plain": []
     },
     "output_type": "execute_result"
    }
   ],
   "source": [
    "assumptSet = {N2 -> N1,  M2 -> M1};\n",
    "paramSet = {q2 -> 0.5, q1 -> 0.5, l -> 0.6};\n",
    "p1eqSimple = Simplify[p1eq /. assumptSet]\n",
    "p2eqSimple = Simplify[p2eq /. assumptSet]"
   ]
  },
  {
   "cell_type": "code",
   "execution_count": 19,
   "metadata": {
    "vscode": {
     "languageId": "wolfram"
    }
   },
   "outputs": [],
   "source": [
    "eigenSimple = Eigenvalues[D[{p1eqSimple, p2eqSimple}, {{p1, p2}}]];"
   ]
  },
  {
   "cell_type": "code",
   "execution_count": 20,
   "metadata": {
    "vscode": {
     "languageId": "wolfram"
    }
   },
   "outputs": [
    {
     "ename": "Solve::bdomv",
     "evalue": "Warning: NonNegativeReals is not a valid domain specification. Assuming it is a variable to eliminate.",
     "output_type": "error",
     "traceback": [
      "\u001b[0;31mSolve::bdomv: Warning: NonNegativeReals is not a valid domain specification. Assuming it is a variable to eliminate.\u001b[0m"
     ]
    },
    {
     "ename": "Solve::ratnz",
     "evalue": "Solve was unable to solve the system with inexact coefficients. The answer was obtained by solving a corresponding exact system and numericizing the result.",
     "output_type": "error",
     "traceback": [
      "\u001b[0;31mSolve::ratnz: Solve was unable to solve the system with inexact coefficients. The answer was obtained by solving a corresponding exact system and numericizing the result.\u001b[0m"
     ]
    }
   ],
   "source": [
    "symSols = Assuming[\n",
    "  M1 < 1 && M1 > 0, \n",
    "  Solve[{p1eqSimple == 0, p2eqSimple == 0} /. paramSet, {p1, p2}, NonNegativeReals]\n",
    "];"
   ]
  },
  {
   "cell_type": "code",
   "execution_count": 42,
   "metadata": {
    "vscode": {
     "languageId": "wolfram"
    }
   },
   "outputs": [
    {
     "ename": "Solve::bdomv",
     "evalue": "Warning: NonNegativeReals is not a valid domain specification. Assuming it is a variable to eliminate.",
     "output_type": "error",
     "traceback": [
      "\u001b[0;31mSolve::bdomv: Warning: NonNegativeReals is not a valid domain specification. Assuming it is a variable to eliminate.\u001b[0m"
     ]
    }
   ],
   "source": [
    "genSols = Assuming[\n",
    "   M1 < 1 && M1 > 0 && q1 < l && q1 > 0 && l < 1 && l > 0  && q2 < 1 && q2 > 0,\n",
    "   Solve[{p1eqSimple == 0, p2eqSimple == 0} , {p1, p2},  NonNegativeReals]\n",
    "];"
   ]
  },
  {
   "cell_type": "code",
   "execution_count": 44,
   "metadata": {
    "vscode": {
     "languageId": "wolfram"
    }
   },
   "outputs": [
    {
     "data": {
      "text/html": [
       "<div><img alt=\"Output\" src=\"data:image/png;base64,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\"></div>"
      ],
      "text/plain": [
       "{{p1 -> 1., p2 -> 0}, {p1 -> 0, p2 -> 1}, {p1 -> 16.2188, p2 -> 8.96533}, \n",
       " \n",
       ">   {p1 -> 110.835, p2 -> 103.581}}"
      ]
     },
     "execution_count": 44,
     "metadata": {
      "text/html": [],
      "text/plain": []
     },
     "output_type": "execute_result"
    }
   ],
   "source": [
    "genSols /. {l -> 0.6, M1 -> 0.45, q1 -> 0.55, q2 -> 0.5}"
   ]
  },
  {
   "cell_type": "code",
   "execution_count": null,
   "metadata": {
    "vscode": {
     "languageId": "wolfram"
    }
   },
   "outputs": [],
   "source": [
    "genCoexSol = FullSimplify[genSols[[3]]];"
   ]
  },
  {
   "cell_type": "code",
   "execution_count": 30,
   "metadata": {
    "vscode": {
     "languageId": "wolfram"
    }
   },
   "outputs": [
    {
     "data": {
      "text/html": [
       "<div><img alt=\"Output\" src=\"data:image/png;base64,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\"></div>"
      ],
      "text/plain": [
       "{p1 -> 3.30784 - 2.56693 I, p2 -> -0.17451 - 2.56693 I}"
      ]
     },
     "execution_count": 30,
     "metadata": {
      "text/html": [],
      "text/plain": []
     },
     "output_type": "execute_result"
    }
   ],
   "source": [
    "genSols[[3]] /. {q2 -> 0.5, M1 -> 0.2, l -> 0.6, q1 -> 0.55}"
   ]
  },
  {
   "cell_type": "code",
   "execution_count": 26,
   "metadata": {
    "vscode": {
     "languageId": "wolfram"
    }
   },
   "outputs": [],
   "source": [
    "(* eigenSimple = FullSimplify[eigenSimple]; *)\n",
    "genEigenCoex = eigenSimple /. genSols[[3]];"
   ]
  },
  {
   "cell_type": "code",
   "execution_count": null,
   "metadata": {
    "vscode": {
     "languageId": "wolfram"
    }
   },
   "outputs": [
    {
     "ename": "",
     "evalue": "",
     "output_type": "error",
     "traceback": [
      "\u001b[1;31mThe Kernel crashed while executing code in the the current cell or a previous cell. Please review the code in the cell(s) to identify a possible cause of the failure. Click <a href='https://aka.ms/vscodeJupyterKernelCrash'>here</a> for more info. View Jupyter <a href='command:jupyter.viewOutput'>log</a> for further details."
     ]
    },
    {
     "ename": "",
     "evalue": "",
     "output_type": "error",
     "traceback": [
      "\u001b[1;31mCanceled future for execute_request message before replies were done"
     ]
    }
   ],
   "source": [
    "eigenSimple = FullSimplify[eigenSimple];"
   ]
  },
  {
   "attachments": {},
   "cell_type": "markdown",
   "metadata": {},
   "source": [
    "## Case of fixed q2 and l"
   ]
  },
  {
   "attachments": {},
   "cell_type": "markdown",
   "metadata": {},
   "source": [
    "### Stream plots"
   ]
  },
  {
   "cell_type": "code",
   "execution_count": 976,
   "metadata": {
    "vscode": {
     "languageId": "wolfram"
    }
   },
   "outputs": [
    {
     "ename": "Solve::ratnz",
     "evalue": "Solve was unable to solve the system with inexact coefficients. The answer was obtained by solving a corresponding exact system and numericizing the result.",
     "output_type": "error",
     "traceback": [
      "\u001b[0;31mSolve::ratnz: Solve was unable to solve the system with inexact coefficients. The answer was obtained by solving a corresponding exact system and numericizing the result.\u001b[0m"
     ]
    },
    {
     "ename": "Part::partd",
     "evalue": "Part specification List[[1]] is longer than depth of object.",
     "output_type": "error",
     "traceback": [
      "\u001b[0;31mPart::partd: Part specification List[[1]] is longer than depth of object.\u001b[0m"
     ]
    },
    {
     "ename": "Part::partd",
     "evalue": "Part specification List[[2]] is longer than depth of object.",
     "output_type": "error",
     "traceback": [
      "\u001b[0;31mPart::partd: Part specification List[[2]] is longer than depth of object.\u001b[0m"
     ]
    },
    {
     "ename": "Part::partd",
     "evalue": "Part specification List[[1]] is longer than depth of object.",
     "output_type": "error",
     "traceback": [
      "\u001b[0;31mPart::partd: Part specification List[[1]] is longer than depth of object.\u001b[0m"
     ]
    },
    {
     "ename": "General::stop",
     "evalue": "Further output of Part::partd will be suppressed during this calculation.",
     "output_type": "error",
     "traceback": [
      "\u001b[0;31mGeneral::stop: Further output of Part::partd will be suppressed during this calculation.\u001b[0m"
     ]
    },
    {
     "data": {
      "text/html": [
       "<style>\n",
       "\t\t\t\t\t\t\t\t\t\t\t\t\t.grid-container {\n",
       "\t\t\t\t\t\t\t\t\t\t\t\t\t\tdisplay: inline-grid;\n",
       "\t\t\t\t\t\t\t\t\t\t\t\t\t\tgrid-template-columns: auto;\n",
       "\t\t\t\t\t\t\t\t\t\t\t\t\t}\n",
       "\t\t\t\t\t\t\t\t\t\t\t\t</style>\n",
       "\n",
       "\t\t\t\t\t\t\t\t\t\t\t\t<div><div class=\"grid-container\"><div class=\"grid-item\"><img alt=\"Output\" src=\"data:image/png;base64,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\"></div><div class=\"grid-item\"><img alt=\"Output\" src=\"data:image/png;base64,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\"></div></div></div>"
      ],
      "text/plain": [
       "-Graphics-\n",
       "figs/stream_plot_eq_lv=0.5_q2=0.5_q1=0.75_M1=0.2.pdf"
      ]
     },
     "execution_count": 987,
     "metadata": {
      "text/html": [],
      "text/plain": []
     },
     "output_type": "execute_result"
    }
   ],
   "source": [
    "numTol = 10^(-10);\n",
    "plotParamSet = {q2 -> 0.5, l -> 0.5, q1 -> 0.75, M1 -> 0.2};\n",
    "  (* Solution limited to Reals and not only po5sitive ones because the \\\n",
    "result will be numericised by\n",
    "  Mathematica, \n",
    "  and there can be a floating point accuracy error making zero \\\n",
    "solutions negative *)\n",
    "plotSol = Solve[\n",
    "  {p1eqSimple == 0, p2eqSimple == 0} /. plotParamSet, {p1, p2}, Reals\n",
    "];\n",
    "plotEigen = Re[Eigenvalues[D[{p1eqSimple, p2eqSimple} /. plotParamSet, {{p1, p2}}]] /. plotSol];\n",
    "valuesSol = Normal @ Table[{p1, p2} /. plotSol[[i]], {i, 1, Length[plotSol]}];\n",
    "validIdx = Flatten[Position[\n",
    "  valuesSol,\n",
    "  _?(#[[1]] >= -numTol && #[[2]] >= -numTol && #[[1]] <= 1 + numTol &&  #[[2]] <= 1 + numTol &)\n",
    "]];\n",
    "stableIdx = Position[\n",
    "  plotEigen[[validIdx]], _?(NumericQ[#[[1]]] && NumericQ[#[[2]]] && #[[1]] < 0 &&  #[[2]] < 0 &)\n",
    "];\n",
    "  (* Delete cannot take the flattened version because otherwise it \\\n",
    "deletes an element going in higher dimension. \n",
    "   If there is either no stable or unstable solution, \n",
    "  we need to replace the corresponding empty list by \\[EmptySet], \n",
    "     because ListPlot can't handle an empty list correctly. *)\n",
    "plot1 = ListPlot[\n",
    "  {\n",
    "    valuesSol[[validIdx]][[Flatten[stableIdx]]], \n",
    "    Delete[valuesSol[[validIdx]], stableIdx]\n",
    "  } /. {} -> {\\[EmptySet]},\n",
    "  PlotStyle -> {Directive[PointSize[0.05], Blue], Directive[PointSize[0.05], Red]}\n",
    "];\n",
    "plot2 = StreamPlot[\n",
    "  {p1eqSimple, p2eqSimple} /. plotParamSet, {p1, 0, 1}, {p2, 0, 1},\n",
    "  StreamColorFunction -> None\n",
    "];\n",
    "plot = Show[\n",
    "  plot1, \n",
    "  plot2,\n",
    "  AspectRatio -> Automatic,\n",
    "  FrameTicksStyle -> {texStyle, texStyle},\n",
    "  Frame -> {{True, False}, {True, False}},\n",
    "  FrameTicks -> {Range[0, 1, 0.2], Range[0, 1, 0.2]},\n",
    "  PlotRange -> {{0, 1}, {0, 1}},\n",
    "  PlotRangeClipping -> False,\n",
    "  PlotRangePadding -> 0,\n",
    "  ImageSize -> {5.5 cm, 5.5 cm}\n",
    "]\n",
    "paramsStr = (\n",
    "  \"_lv=\" <> ToString[l /. plotParamSet] <> \"_q2=\" <> ToString[q2 /. plotParamSet]\n",
    "  <> \"_q1=\" <> ToString[q1 /. plotParamSet] <> \"_M1=\" <> ToString[M1 /. plotParamSet]\n",
    ");\n",
    "fileName = FileNameJoin[{\"figs\", \"stream_plot_eq\" <> paramsStr <> \".pdf\"}]\n",
    "Export[fileName, plot]; "
   ]
  },
  {
   "attachments": {},
   "cell_type": "markdown",
   "metadata": {},
   "source": [
    "### Stable coexistence coords"
   ]
  },
  {
   "cell_type": "code",
   "execution_count": 31,
   "metadata": {
    "vscode": {
     "languageId": "wolfram"
    }
   },
   "outputs": [
    {
     "ename": "Solve::bdomv",
     "evalue": "Warning: NonNegativeReals is not a valid domain specification. Assuming it is a variable to eliminate.",
     "output_type": "error",
     "traceback": [
      "\u001b[0;31mSolve::bdomv: Warning: NonNegativeReals is not a valid domain specification. Assuming it is a variable to eliminate.\u001b[0m"
     ]
    },
    {
     "ename": "Solve::ratnz",
     "evalue": "Solve was unable to solve the system with inexact coefficients. The answer was obtained by solving a corresponding exact system and numericizing the result.",
     "output_type": "error",
     "traceback": [
      "\u001b[0;31mSolve::ratnz: Solve was unable to solve the system with inexact coefficients. The answer was obtained by solving a corresponding exact system and numericizing the result.\u001b[0m"
     ]
    },
    {
     "ename": "Solve::bdomv",
     "evalue": "Warning: NonNegativeReals is not a valid domain specification. Assuming it is a variable to eliminate.",
     "output_type": "error",
     "traceback": [
      "\u001b[0;31mSolve::bdomv: Warning: NonNegativeReals is not a valid domain specification. Assuming it is a variable to eliminate.\u001b[0m"
     ]
    },
    {
     "ename": "Solve::ratnz",
     "evalue": "Solve was unable to solve the system with inexact coefficients. The answer was obtained by solving a corresponding exact system and numericizing the result.",
     "output_type": "error",
     "traceback": [
      "\u001b[0;31mSolve::ratnz: Solve was unable to solve the system with inexact coefficients. The answer was obtained by solving a corresponding exact system and numericizing the result.\u001b[0m"
     ]
    },
    {
     "ename": "Solve::bdomv",
     "evalue": "Warning: NonNegativeReals is not a valid domain specification. Assuming it is a variable to eliminate.",
     "output_type": "error",
     "traceback": [
      "\u001b[0;31mSolve::bdomv: Warning: NonNegativeReals is not a valid domain specification. Assuming it is a variable to eliminate.\u001b[0m"
     ]
    },
    {
     "ename": "General::stop",
     "evalue": "Further output of Solve::bdomv will be suppressed during this calculation.",
     "output_type": "error",
     "traceback": [
      "\u001b[0;31mGeneral::stop: Further output of Solve::bdomv will be suppressed during this calculation.\u001b[0m"
     ]
    },
    {
     "ename": "Solve::ratnz",
     "evalue": "Solve was unable to solve the system with inexact coefficients. The answer was obtained by solving a corresponding exact system and numericizing the result.",
     "output_type": "error",
     "traceback": [
      "\u001b[0;31mSolve::ratnz: Solve was unable to solve the system with inexact coefficients. The answer was obtained by solving a corresponding exact system and numericizing the result.\u001b[0m"
     ]
    },
    {
     "ename": "General::stop",
     "evalue": "Further output of Solve::ratnz will be suppressed during this calculation.",
     "output_type": "error",
     "traceback": [
      "\u001b[0;31mGeneral::stop: Further output of Solve::ratnz will be suppressed during this calculation.\u001b[0m"
     ]
    }
   ],
   "source": [
    "paramSetParametricPlot = {q2 -> 0.5, l -> 0.6};\n",
    "solsForqVals = Table[\n",
    "    {p1, p2} /. Solve[\n",
    "        {p1eqSimple == 0, p2eqSimple == 0} /. paramSetParametricPlot /. {q1 -> q1Line}, {p1, p2}, NonNegativeReals\n",
    "    ][[4]],\n",
    "    {q1Line, {0.65, 0.675, 0.7, 0.75, 0.9}}\n",
    "];"
   ]
  },
  {
   "cell_type": "code",
   "execution_count": 32,
   "metadata": {
    "vscode": {
     "languageId": "wolfram"
    }
   },
   "outputs": [
    {
     "data": {
      "text/html": [
       "<div><pre style=\"&#102;&#111;&#110;&#116;&#45;&#102;&#97;&#109;&#105;&#108;&#121;&#58;&#32;&#34;&#67;&#111;&#117;&#114;&#105;&#101;&#114;&#32;&#78;&#101;&#119;&#34;&#44;&#67;&#111;&#117;&#114;&#105;&#101;&#114;&#44;&#109;&#111;&#110;&#111;&#115;&#112;&#97;&#99;&#101;&#59;\">&#123;&#123;&#45;&#48;&#46;&#48;&#50;&#53;&#52;&#53;&#49;&#49;&#44;&#32;&#49;&#46;&#48;&#48;&#57;&#56;&#52;&#125;&#44;&#32;&#123;&#48;&#46;&#52;&#56;&#52;&#48;&#54;&#44;&#32;&#48;&#46;&#55;&#54;&#54;&#52;&#49;&#50;&#125;&#44;&#32;&#123;&#48;&#46;&#55;&#48;&#50;&#55;&#44;&#32;&#48;&#46;&#54;&#48;&#56;&#53;&#56;&#50;&#125;&#44;&#32;&#123;&#48;&#46;&#56;&#56;&#49;&#51;&#53;&#52;&#44;&#32;&#48;&#46;&#52;&#49;&#48;&#55;&#54;&#54;&#125;&#44;&#32;&#10;&#32;&#10;&#62;&#32;&#32;&#32;&#123;&#48;&#46;&#57;&#57;&#48;&#57;&#48;&#49;&#44;&#32;&#48;&#46;&#49;&#52;&#51;&#56;&#52;&#50;&#125;&#125;</pre></div>"
      ],
      "text/plain": [
       "{{-0.0254511, 1.00984}, {0.48406, 0.766412}, {0.7027, 0.608582}, {0.881354, 0.410766}, \n",
       " \n",
       ">   {0.990901, 0.143842}}"
      ]
     },
     "execution_count": 32,
     "metadata": {
      "text/html": [],
      "text/plain": []
     },
     "output_type": "execute_result"
    }
   ],
   "source": [
    "solsForqVals /. {M1 -> 0.2}"
   ]
  },
  {
   "cell_type": "code",
   "execution_count": null,
   "metadata": {
    "vscode": {
     "languageId": "wolfram"
    }
   },
   "outputs": [],
   "source": [
    "cmap = \"BlueGreenYellow\";\n",
    "parametricPlots = ParametricPlot[\n",
    "    solsForqVals,\n",
    "    {M1, 0, 0.5},\n",
    "    PlotRange -> {0, 1},\n",
    "    ColorFunction -> (ColorData[cmap][#3 / 0.5] &),\n",
    "    BaseStyle -> texStyle\n",
    "];"
   ]
  },
  {
   "cell_type": "code",
   "execution_count": 421,
   "metadata": {
    "vscode": {
     "languageId": "wolfram"
    }
   },
   "outputs": [],
   "source": [
    "cmap = \"BlueGreenYellow\";\n",
    "plotParamSet = {q2 -> 0.5, l -> 0.6};\n",
    "parametricPlotForq1Val[q1Line_] := Block[\n",
    "    {sol, plot},\n",
    "    sol = Solve[\n",
    "        {p1eqSimple == 0, p2eqSimple == 0} /. plotParamSet /. {q1 -> q1Line}, {p1, p2}, NonNegativeReals\n",
    "    ];\n",
    "    plot = ParametricPlot[\n",
    "        {p1, p2} /. sol,\n",
    "        {M1, 0, 0.5},\n",
    "        PlotRange -> {0, 1},\n",
    "        ColorFunction -> (ColorData[cmap][#3 / 0.5] &),\n",
    "        BaseStyle -> texStyle,\n",
    "        (* ImageSize -> {5.5 cm, 5.5 cm}, *)\n",
    "        PerformanceGoal -> Quality\n",
    "    ]\n",
    "];"
   ]
  },
  {
   "cell_type": "code",
   "execution_count": 147,
   "metadata": {
    "vscode": {
     "languageId": "wolfram"
    }
   },
   "outputs": [
    {
     "data": {
      "text/html": [
       "<style>\n",
       "\t\t\t\t\t\t\t\t\t\t\t\t\t.grid-container {\n",
       "\t\t\t\t\t\t\t\t\t\t\t\t\t\tdisplay: inline-grid;\n",
       "\t\t\t\t\t\t\t\t\t\t\t\t\t\tgrid-template-columns: auto;\n",
       "\t\t\t\t\t\t\t\t\t\t\t\t\t}\n",
       "\t\t\t\t\t\t\t\t\t\t\t\t</style>\n",
       "\n",
       "\t\t\t\t\t\t\t\t\t\t\t\t<div><div class=\"grid-container\"><div class=\"grid-item\"><img alt=\"Output\" src=\"data:image/png;base64,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\"></div><div class=\"grid-item\"><img alt=\"Output\" src=\"data:image/png;base64,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\"></div><div class=\"grid-item\"><img alt=\"Output\" src=\"data:image/png;base64,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\"></div><div class=\"grid-item\"><img alt=\"Output\" src=\"data:image/png;base64,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\"></div></div></div>"
      ],
      "text/plain": [
       "{Frame -> {{True, False}, {True, False}}, \n",
       " \n",
       ">   FrameTicks -> \n",
       " \n",
       ">    {{{0., 0.2, 0.4, 0.6, 0.8, 1.}, None}, {{0., 0.2, 0.4, 0.6, 0.8, 1.}, None}}, \n",
       " \n",
       ">   PlotRange -> {{0, 1}, {0, 1}}, PlotRangePadding -> 0, \n",
       " \n",
       ">   ImageSize -> {155.906, 155.906}}\n",
       "Column[{-Graphics-, -Graphics-}, Spacings -> 0]\n",
       "figs/coex_coords_mobility_variation_lv=0.6_q2=0.5.pdf\n",
       "figs/coex_coords_mobility_variation_lv=0.6_q2=0.5.png"
      ]
     },
     "execution_count": 148,
     "metadata": {
      "text/html": [],
      "text/plain": []
     },
     "output_type": "execute_result"
    }
   ],
   "source": [
    "myBarLegend = DensityPlot[\n",
    "    x, {x, 0, 0.5}, {y, 0, 0.5}, \n",
    "    PlotRange -> {{0, 0.5}, {0, 0.5}}, ColorFunction -> (ColorData[cmap][#] &), \n",
    "    AspectRatio -> 1/15, FrameTicks -> {{None, None}, {None, {0, 0.5}}},\n",
    "    ImagePadding -> {{55, 7}, {0, 20}}, ImageSize -> 5 cm\n",
    "];\n",
    "options = {\n",
    "    Frame -> {{True, False}, {True, False}},\n",
    "    FrameTicks -> {{Range[0, 1, 0.2], None}, {Range[0, 1, 0.2], None}},\n",
    "    PlotRange -> {{0, 1}, {0, 1}},\n",
    "    PlotRangePadding -> 0,\n",
    "    ImageSize -> {5.5 cm, 5.5 cm}\n",
    "}\n",
    "diagLine = Plot[1 - p1, {p1, 0, 1}, PlotStyle -> {Black, Dashed, Thickness[0.001]}];\n",
    "plots = Show[\n",
    "    parametricPlots, diagLine,\n",
    "    options\n",
    "];\n",
    "final = Column[{myBarLegend, plots}, Spacings -> 0]\n",
    "paramsStr = (\n",
    "  \"_lv=\" <> ToString[l /. paramSetParametricPlot] <> \"_q2=\" <> ToString[q2 /. paramSetParametricPlot]\n",
    ");\n",
    "fileName = FileNameJoin[{\"figs\", \"coex_coords_mobility_variation\" <> paramsStr <> \".pdf\"}]\n",
    "Export[fileName, final];\n",
    "fileName = FileNameJoin[{\"figs\", \"coex_coords_mobility_variation\" <> paramsStr <> \".png\"}]\n",
    "Export[fileName, Rasterize[final, ImageResolution -> 300]]; "
   ]
  },
  {
   "attachments": {},
   "cell_type": "markdown",
   "metadata": {},
   "source": [
    "### Param space"
   ]
  },
  {
   "cell_type": "code",
   "execution_count": 31,
   "metadata": {
    "vscode": {
     "languageId": "wolfram"
    }
   },
   "outputs": [
    {
     "ename": "Solve::bdomv",
     "evalue": "Warning: NonNegativeReals is not a valid domain specification. Assuming it is a variable to eliminate.",
     "output_type": "error",
     "traceback": [
      "\u001b[0;31mSolve::bdomv: Warning: NonNegativeReals is not a valid domain specification. Assuming it is a variable to eliminate.\u001b[0m"
     ]
    },
    {
     "ename": "Solve::ratnz",
     "evalue": "Solve was unable to solve the system with inexact coefficients. The answer was obtained by solving a corresponding exact system and numericizing the result.",
     "output_type": "error",
     "traceback": [
      "\u001b[0;31mSolve::ratnz: Solve was unable to solve the system with inexact coefficients. The answer was obtained by solving a corresponding exact system and numericizing the result.\u001b[0m"
     ]
    }
   ],
   "source": [
    "partParamSet = {q2 -> 0.5};\n",
    "p1eqPartParam = p1eqSimple /. partParamSet;\n",
    "p2eqPartParam = p2eqSimple /. partParamSet;\n",
    "sols = Assuming[\n",
    "  M1 < 1 && M1 > 0 && q1 < 1 && q1 > 0 && l < 1 && l > 0 && q2 < 1 && q2 > 0,\n",
    "  Solve[{p1eqPartParam == 0, p2eqPartParam == 0}, {p1, p2}, NonNegativeReals]\n",
    "];\n",
    "eigenPartParam = Eigenvalues[D[{p1eqPartParam, p2eqPartParam}, {{p1, p2}}]];"
   ]
  },
  {
   "cell_type": "markdown",
   "metadata": {},
   "source": [
    "Simplify breaks everything!!! https://mathematica.stackexchange.com/questions/66166/simplify-returns-wrong-result"
   ]
  },
  {
   "cell_type": "code",
   "execution_count": 41,
   "metadata": {
    "vscode": {
     "languageId": "wolfram"
    }
   },
   "outputs": [
    {
     "data": {
      "text/html": [
       "<div><img alt=\"Output\" src=\"data:image/png;base64,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\"></div>"
      ],
      "text/plain": [
       "{{p1 -> 0., p2 -> 1.}, {p1 -> 1., p2 -> 0.}, \n",
       " \n",
       ">   {p1 -> -11.995 - 624.25 I, p2 -> 12.995 - 624.25 I}, \n",
       " \n",
       ">   {p1 -> -11.995 + 624.25 I, p2 -> 12.995 + 624.25 I}}"
      ]
     },
     "execution_count": 41,
     "metadata": {
      "text/html": [],
      "text/plain": []
     },
     "output_type": "execute_result"
    }
   ],
   "source": [
    "sols /. {M1 -> 0.49, q1 -> 0.51}"
   ]
  },
  {
   "cell_type": "code",
   "execution_count": 785,
   "metadata": {
    "vscode": {
     "languageId": "wolfram"
    }
   },
   "outputs": [],
   "source": [
    "eigen1Wins = Re @ Normal @ (eigenPartParam /. sols[[2]]);\n",
    "eigen2Wins = Re @ Normal @ (eigenPartParam /. sols[[1]]);\n",
    "coexSol =  sols[[4]];\n",
    "boolCoex = FirstCase[\n",
    "  p1 /. coexSol ,\n",
    "  ConditionalExpression[_, c_] :> c, \n",
    "  Missing[],\n",
    "  {0, -1}\n",
    "];\n",
    "eigenCoex = Re @ Normal @ (eigenPartParam /. coexSol);\n",
    "psCoexSol = {p1 , p2} /. Normal @ coexSol;"
   ]
  },
  {
   "attachments": {},
   "cell_type": "markdown",
   "metadata": {},
   "source": [
    "Labeling automatically regions only from Mathematica 12 on"
   ]
  },
  {
   "cell_type": "code",
   "execution_count": 791,
   "metadata": {
    "vscode": {
     "languageId": "wolfram"
    }
   },
   "outputs": [
    {
     "data": {
      "text/html": [
       "<div><img alt=\"Output\" src=\"data:image/png;base64,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\"></div>"
      ],
      "text/plain": [
       "-Graphics-"
      ]
     },
     "execution_count": 796,
     "metadata": {
      "text/html": [],
      "text/plain": []
     },
     "output_type": "execute_result"
    }
   ],
   "source": [
    "eps = 10^-8;\n",
    "isStableCoex = AllTrue[eigenCoex, # < 0 &];\n",
    "isCoexSolPhysical = AllTrue[psCoexSol, # > 0 && # < 1 &];\n",
    "isStable1 = AllTrue[eigen1Wins, # < 0 &];\n",
    "isStable2 = AllTrue[eigen2Wins, # < 0 &];\n",
    "coex2DRegionPlot = RegionPlot[\n",
    "  {\n",
    "    isStableCoex && isCoexSolPhysical,\n",
    "    (* 1 wins: *)\n",
    "    isStable1,\n",
    "    (* 2 wins: *)\n",
    "    isStable2\n",
    "    (* weird solution, does not appear *)\n",
    "    (* eigenOther[[1]] < 0 && eigenOther[[2]] < 0\n",
    "    && xsolOther > 0 && xsolOther < 1  && ysolOther > 0 && ysolOther < 1 *)\n",
    "  },\n",
    "  {q1, 0.5, 1}, {M1, 0, 0.5},\n",
    "  PlotRangePadding -> None,\n",
    "  FrameTicksStyle -> {texStyle, texStyle},\n",
    "  FrameTicks -> {Range[0.5, 1, 0.1], Range[0, 0.5, 0.1]},\n",
    "  FrameLabel -> MaTeX[{\"q_1\", \"M\"}, FontSize -> 12],\n",
    "  AxesLabel -> Automatic, Frame -> {{True, False}, {True, False}},\n",
    "  ImageSize -> {6*cm, 6*cm}\n",
    "  (* , MaxRecursion -> 7, PlotPoints -> 10 *)\n",
    "]"
   ]
  },
  {
   "cell_type": "code",
   "execution_count": 797,
   "metadata": {
    "vscode": {
     "languageId": "wolfram"
    }
   },
   "outputs": [
    {
     "data": {
      "text/html": [
       "<style>\n",
       "\t\t\t\t\t\t\t\t\t\t\t\t\t.grid-container {\n",
       "\t\t\t\t\t\t\t\t\t\t\t\t\t\tdisplay: inline-grid;\n",
       "\t\t\t\t\t\t\t\t\t\t\t\t\t\tgrid-template-columns: auto;\n",
       "\t\t\t\t\t\t\t\t\t\t\t\t\t}\n",
       "\t\t\t\t\t\t\t\t\t\t\t\t</style>\n",
       "\n",
       "\t\t\t\t\t\t\t\t\t\t\t\t<div><div class=\"grid-container\"><div class=\"grid-item\"><img alt=\"Output\" src=\"data:image/png;base64,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\"></div><div class=\"grid-item\"><img alt=\"Output\" src=\"data:image/png;base64,iVBORw0KGgoAAAANSUhEUgAAATUAAAASCAIAAAC1o95pAAAAhXpUWHRSYXcgcHJvZmlsZSB0eXBlIGV4aWYAAHjaVYvBDcMwDAP/mqIjyLJM2uMYiQNkg45fuu0n9yApgbT1vi97felp2dgxABc5csRU6P6juNciDXn+X9MfZGWgoRhTluEkhnJXkqKFN+LCAahYcIbnIV8gNQN3o86928QyPusLVffpbh/5eCey76LuBgAAAAlwSFlzAAALEwAACxMBAJqcGAAAADx0RVh0U29mdHdhcmUAQ3JlYXRlZCB3aXRoIHRoZSBXb2xmcmFtIExhbmd1YWdlIDogd3d3LndvbGZyYW0uY29tXKKmhQAAACF0RVh0Q3JlYXRpb24gVGltZQAyMDIzOjA0OjA3IDEzOjEyOjIy2KEXDgAADn5JREFUeJztmntQU8cawE8itKCkPMwDNMEQgfAIzwiIIMpgG6e2pLxBhdoR5KXN1FYpIkVr1WoLowLVaSkV0NqBcUCq0CoOAzMMtrUzMGIJhIchPJryCBhIyHPvHzs999w8CFK0vffy+2v32/2+/b6T/fbs7gkOAICssMIK/0jwf7cDK6ywglFW8nOFFf656Obn3Nzc6OioVqv9W7xZYYUVJicnJyYmYPnf+alUKmNjY+l0OofDcXNzU6vVaFNmZqabm5tGo3nRnv63AQBgsVj79+9/rqPMzs6qVCqspLe3t6Ojo6urC/1dFyYwMNDGxsbKyiotLW25vFKpVE+fPn0mFQCARCL56/NKqVTKZLJnUlmCt8vOtm3bbty4gZUIhUJ/f39/f/+wsLCEhAQEm5+VlZVCoVAkEj169Kirq8vMzAxtcnd3DwgIwOOXbTOsUqmuX7++XNb+OeBwuE2bNnl4eDwn+z///HNAQICbm5u9vX1UVJREIoHy3bt3x8fH79u3j8FghIaGdnd3m7QzPT198OBBnTxfMnl5eSQSycXFJSgoaHBwcDEqZWVl69evZzKZRCLxxIkTS7unHBsbi42NpdFoDAaDzWZ3dnY+D2+Li4ttMGRlZS3BVX0UCoXO2lRQULB582ahUPjbb79VVVUhCIKAP8nOzj569Ch4IVRWVj5+/PjFjPW/REpKyt27dwEACoUiNjY2Ozsbytls9jfffAMAUCqV77777rp166anp01ay8nJefvtt/+6VxUVFT4+PlNTUwCA8+fPb9q0yaRKTU2No6NjV1cXAGB8fLympmZpQxcWFhYVFWk0Glj29PR8Ht7m5uZmZ2dL/mRubm5p3uqwefPmqqoqrMTHx6e+vh4rQQAApaWlISEhJBLJwcGBzWaz2ezvv/8eAHD16lX2n8TExGDVpFJpamqqq6uru7s77HDs2DEAwPz8PI/Hc3Z2tre3DwkJuXHjhrGAsdWOjo7IyMh169bZ29vzeDypVArlDQ0NQUFBRCIxNDS0paUF7a9Sqc6fP+/k5ESj0eLi4kQiEZSfPn36ww8/hOXe3t7w8PCJiYmFn9H27dvn5uY+/fRTBoNhY2Pz7bffQvnjx4937txJIpG8vb2/+uork4EfOnQIfVZnzpzBDsHn89944w0ymcxisa5cuYIdenh4OCkpyc7OztPT8/79+wu7qkNdXV1gYCAso/kJAFCr1S4uLsXFxSYt6OdndHR0a2srWm1ubl5MAm/fvh39odVqNZlM7uzsXFjF39//5s2bJi2jqNXqgoICCoXi4uJy6dKlyMhIsVis02d6ehpBEJlMtuzeZmRknDt3bvHevv/++9XV1SkpKba2ts7OznV1dWhTTU2Ni4vLunXrDh486Ofnh+Znenp6cHCwhYWFi4sLnEVwViMAgPHxcYFAEBcXl5WVJRAIBALB06dPAQASiQRWL1++zGQysR4cOnQoKSlJpVINDw/T6fT29naocv78+ZCQkNnZWa1W29HR8fXXX+t7f+fOHWyydXV1WVlZXbhwYWpqamRkJDc3d2hoCADQ0tJiY2PT2Ng4NzdXU1NDIBDQ58jj8V577bWxsTG1Wl1aWspms+EKKpFINmzYUFtbq1arAwMDsXllDGtr6+jo6MzMzJ6enidPnoyPjwMAhEIhkUisrq7WaDRDQ0M+Pj63bt1aOPDR0VH4rPbt25eeno7an5iYIJPJhYWFUqn04cOHTk5Oly9fRofevHlzc3PzzMzMsWPHNmzYYNJbLCdPnkSTB5ufAID9+/cnJyebtKCfn2fOnImLi0Orb731VmlpqUk7a9eu7enp6ezshD83h8O5du3aAv2lUumqVatmZ2fv3btXWlra3Nxscoj8/HwPD4/Ozs6JiYlz584hCIIuyigtLS2LeYbP6i0AID4+fu/evRkZGVlZWbW1tSaH4HK5jo6OP/zww+zsbEVFhbm5+cDAAADg/v37BAKhvr5+Zmamrq7OxsYGzU+RSCQQCBgMRnl5OZxISqUSwPyE7N+/Py8vz+B4tbW1OvkZHByMrgp79uz54osvYLmystLR0bGpqQkmjEFycnKw1aioKOyERtmxY8fx48fRalZWVnx8PABgZGTEzMxsbGwMbXJycuru7obltrY2BweHI0eOxMbGGnMAi7W19aFDh3SE6enpWVlZaLWioiIhIQGWjQWOwuPxsOF88sknoaGhaLW6uppCoaBDo1NzeHgYQZCZmZnF+AwAEAgEZDKZz+fDqk5+5uTkREVFmTSin5/j4+MEAuH3338HAIyMjNja2sLVB3Lr1q2c/wT+yi+99JJIJEpNTcXj8TKZLCYmBl2DDNLf329paZmQkMDj8T777LNNmzalpaUt0F+hUKxevfrevXuwKpfL9fNTLpf7+flVVFQsu7cAgJKSko8//ripqamqqorBYOjs/vThcrlnz55FqyEhIYWFhQCAiIgIbIoFBQXp7G+ZTGZjYyNWYqZ/bF0MYWFh165d27lzp1gsbm1tPXz4MJQnJyevWbPm9OnTe/fu5XA4PB7Pz88Pq/jw4cPAwECshM/nc7lc/SH6+/sPHDiAVn19fa9cuYIgSF9fHwBgx44daBMOh5uamoLlLVu2BAUFFRUVDQ0NLTKWlJQUHUlvby+fz29paYFVjUbj5eW1cODG6O/v9/b2xkYhFoulUimBQEAQxMLCAsrXrFmDIIhMJnvllVdMOiwWi998882LFy8ymUyDHUQiEZlMNmlHHyKRGBUVVV5enpubW1ZWlpiYCP2EREZGRkZG6msRCISpqamzZ8+mp6dbWlpOTk5itfQxMzOTy+V5eXnwqaalpTk4OJw8edLBwcFgf7FYLJPJfH19jRlUq9V79uwJDg7G/pTL5S2CINnZ2WiZRqNxOJyTJ0+am5svrIVCp9NHRkYQBBkcHMzIyFikFmSJ+RkeHt7U1BQREWFpaVlcXOzv7482RUdHR0dHz8zMVFVVhYWFtbe3s1gstLW2tvbUqVNYUxQKZWBgQH8IMpkM3yoQkUhEoVAQBLG3t9dqta2trXZ2dvpa9+/f5/P5cXFxH330UVlZ2dKis7e39/b2vnDhgn7TAoEbhEwmY29TRSKRlZUVzMalIRKJOBzO4cOHExMTDXaYmZlpbGyEa9nCGLyQz87OTkxMPHLkSHl5+e3bt7FNSqVSqVRiJVZWVgiCsFisjo4Ob29vIpGoVqsfP36MLmcIgmi1WoFAgF1KqFQqgUBYtWoVrFpbW9vY2IyOjhrLTzKZjMPhxGIxkUjUb1UoFElJSQQCoaSk5Hl4qwOJRFIoFCqVCs3Pubm5yclJR0dHYypCodDHxwdBEAqFIhaLjXUzDPomfab9bURERFNTk37P8vJy9GJWJpNRqdQff/wRbe3r69M/E9bW1lpbW7e3t8NqQ0PDo0ePAABXr16l0+nDw8MAgN7eXjKZfPv2bdjn9ddf3717N7wJ0Gg0HR0dUC4Wi6lUaltbm1QqdXNzq6ysNBgOFmtr619++UVH2N7ebm1t3dbWBqtPnjxB75mMBY6is7/l8/lr1qyB5+2nT59u3br1gw8+QIdGo4ZfSrCbdoN0dXXR6XSdTRH4c3+r0Wi6urq2bdsWEBCgUqkWNgUAKCkpCQoK0mq1AABs/4CAgJycnK1bt+r0v3v37tn/BOqWlZV5eXnBG+OioiJfX1+s1rFjxxAEKSoqwgp5PF50dDQ8YjU0NFCp1Pn5+QVcffXVV5OTk+EGFS49cH87PT0dHh6emZkJPXke3vL5/IKCArlcDgCQy+WJiYm7du3CqmzZsgWPx2NnEZfLjYmJgfOzvr6eQCDAaXz69GkWiwWvjtvb27HnT4j+/naJ+XnlyhVzc3NnZ2cmk+nr65uUlARPwN99952XlxeLxQoLC6NSqe+99x72wZ04cQLGqcOXX35JIpGcnZ03bty4bds29Fh16tQpW1tbDw8POzu7S5cuof0nJiZ2795tZ2cXEBBApVLhWVGr1XI4nIKCAtjn0aNHJBLJ5Fccg/kJALh58yaNRnN3d/fy8vL09Pzpp58WDhxFJz8BAPX19VQq1c3NzdbWNjU1FX0CS8hPMplsZma2evVqdHmFXybYbPbLL79sYWGxfv36gwcPLubjCgBgcnLS3d2dTqfT6fTr16+j8oqKChwOZ+zuXR+tVpuZmUkkEt3d3V1dXdG7AMjx48cRBLl48SJWODc3l5CQQKVSAwICXF1dHzx4sPAQ8JhAoVCcnZ3z8/PR/IyPj0cQhEAgoHsB9JvTcnkrkUjeeecdMpns6+trZ2fH5XLhJSJKaGjoqlWrfv31V1TC5XJ37drFZDKdnZ1JJNKdO3egXCaTxcbGEggENze3uLi4Xbt2PUN+Lp7Z2Vlvb+/u7u6RkRGRSNTT0xMTE7Nv3z60g1gsFggEOjfdk5OTn3/+uTGbWq12aGhIf4IqlcrBwUGDbwOJRNLX17eYF8XS0Gg0/f392C80JgM3hlarFQqFy/XdbBnRaDSDg4OTk5N/3dTExERfX5/+e0yr1T558sSYilAo1FcxxvDwsEQimZ+fRwzd3z5Xb+VyeV9fn8ELPLlcPjo6ipVwudxz585pNJqBgQH9fQH8TrFIP5dy/hwbG5NIJDQaDZ6j5ufnZ2ZmgoKC0A5kMln/fsLOzo7H4xmzicPhaDSavtzc3JxOpxtUgX/mMOmtQCCoqKjQEbq6uupfC+mAx+MZDAZWYjJwY+BwuAXOJ8vl8BLs4PF4Y4/3WVm7du3atWv15TgcbsOGDYtRMenw+vXrEQSB+fmCvbWwsNi4caNBUxYWFvonZ61Wi8fjnZyc9Pvb2tra2tou0k8cWNL/qvLz82/cuOHh4aFSqUQiUUpKytGjR5dg57+O/9vA/zkoFAomk/ngwQN7e/u/2xfDHDhwwM/PLzMz86+bWmJ+IgiiVqv/+OMPCwsLg/eo/8P83wa+wovnX0AX4c0qlqIKAAAAAElFTkSuQmCC\"></div></div></div>"
      ],
      "text/plain": [
       "-Graphics-\n",
       "figs/coex_region_2D_lv=0.6_q2=0.5.pdf"
      ]
     },
     "execution_count": 797,
     "metadata": {
      "text/html": [],
      "text/plain": []
     },
     "output_type": "execute_result"
    }
   ],
   "source": [
    "annotCoex2DRegionPlot = Show[\n",
    "    coex2DRegionPlot,\n",
    "    {\n",
    "        Epilog -> {\n",
    "            (* Text[Style[\"2\", 12], {0.62, 0.25}, {Center, Center}],\n",
    "            Text[Style[\"1 & 2\", 12], {0.95, 0.25}, {Right, Center}] *)\n",
    "            (* Text[Style[\"all speak\\nstandard\", 12], {0.62, 0.25}, {Center, Center}],\n",
    "            Text[Style[\"both forms\\ncoexist\", 12], {0.95, 0.15}, {Right, Center}] *)\n",
    "\n",
    "            Text[Style[\"2\", 12, LineSpacing -> {0, 12}], {0.55, 0.3}, {Left, Center}],\n",
    "            Text[Style[\"1 & 2\", 12], {0.8, 0.1}, {Center, Center}],\n",
    "            Text[Style[\"1\", 12], {0.9, 0.35}, {Right, Bottom}]\n",
    "            (* Text[Style[\"all speak\\nstandard\", 12], {0.52, 0.3}, {Left, Center}],\n",
    "            Text[Style[\"both forms\\ncoexist\", 12], {0.8, 0.1}, {Center, Center}],\n",
    "            Text[Style[\"all speak\\nnon-standard\", 12], {0.98, 0.35}, {Right, Bottom}] *)\n",
    "        }\n",
    "    }\n",
    "]\n",
    "paramsStr = \"_lv=\" <> ToString[l /. partParamSet] <> \"_q2=\" <> ToString[q2 /. partParamSet];\n",
    "fileName = FileNameJoin[{\"figs\", \"coex_region_2D\" <> paramsStr <> \".pdf\"}]\n",
    "Export[fileName, annotCoex2DRegionPlot];"
   ]
  },
  {
   "cell_type": "code",
   "execution_count": 100,
   "metadata": {
    "vscode": {
     "languageId": "wolfram"
    }
   },
   "outputs": [],
   "source": [
    "options = coex2DRegionPlot // Options;"
   ]
  },
  {
   "attachments": {},
   "cell_type": "markdown",
   "metadata": {},
   "source": [
    "# Fixed q2, free l"
   ]
  },
  {
   "cell_type": "code",
   "execution_count": 17,
   "metadata": {
    "vscode": {
     "languageId": "wolfram"
    }
   },
   "outputs": [
    {
     "ename": "Solve::bdomv",
     "evalue": "Warning: NonNegativeReals is not a valid domain specification. Assuming it is a variable to eliminate.",
     "output_type": "error",
     "traceback": [
      "\u001b[0;31mSolve::bdomv: Warning: NonNegativeReals is not a valid domain specification. Assuming it is a variable to eliminate.\u001b[0m"
     ]
    },
    {
     "ename": "Solve::ratnz",
     "evalue": "Solve was unable to solve the system with inexact coefficients. The answer was obtained by solving a corresponding exact system and numericizing the result.",
     "output_type": "error",
     "traceback": [
      "\u001b[0;31mSolve::ratnz: Solve was unable to solve the system with inexact coefficients. The answer was obtained by solving a corresponding exact system and numericizing the result.\u001b[0m"
     ]
    }
   ],
   "source": [
    "genParamSet = {q2 -> 0.5};\n",
    "p1eqFixedq2 = p1eqSimple /. genParamSet;\n",
    "p2eqFixedq2 = p2eqSimple /. genParamSet;\n",
    "genSols = Assuming[\n",
    "  M1 < 1 && M1 > 0 && q1 < 1 && q1 > 0 && l < 1 && l > 0,\n",
    "  Solve[{p1eqFixedq2 == 0, p2eqFixedq2 == 0}, {p1, p2}, NonNegativeReals]\n",
    "];\n",
    "eigenFixedq2 = Eigenvalues[D[{p1eqFixedq2, p2eqFixedq2}, {{p1, p2}}]];"
   ]
  },
  {
   "cell_type": "code",
   "execution_count": 84,
   "metadata": {
    "vscode": {
     "languageId": "wolfram"
    }
   },
   "outputs": [
    {
     "data": {
      "text/html": [
       "<div><img alt=\"Output\" src=\"data:image/png;base64,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\"></div>"
      ],
      "text/plain": [
       "{{p1 -> 0., p2 -> 1.}, {p1 -> 1., p2 -> 0.}, {p1 -> -237.103, p2 -> -237.299}, \n",
       " \n",
       ">   {p1 -> 0.699152, p2 -> 0.503112}}"
      ]
     },
     "execution_count": 84,
     "metadata": {
      "text/html": [],
      "text/plain": []
     },
     "output_type": "execute_result"
    }
   ],
   "source": [
    "genSols /. {l -> 0.6, M1 -> 0.45, q1 -> 0.7}"
   ]
  },
  {
   "cell_type": "code",
   "execution_count": 22,
   "metadata": {
    "vscode": {
     "languageId": "wolfram"
    }
   },
   "outputs": [],
   "source": [
    "genCoexSol =  genSols[[4]];\n",
    "genEigenCoex = Re @ Normal @ (eigenFixedq2 /. genCoexSol);\n",
    "psGenCoexSol = {p1, p2} /. Normal @ genCoexSol;"
   ]
  },
  {
   "cell_type": "code",
   "execution_count": null,
   "metadata": {
    "vscode": {
     "languageId": "wolfram"
    }
   },
   "outputs": [
    {
     "ename": "Simplify::time",
     "evalue": "Time spent on a transformation exceeded 300. seconds, and the transformation was aborted. Increasing the value of TimeConstraint option may improve the result of simplification.",
     "output_type": "error",
     "traceback": [
      "\u001b[0;31mSimplify::time: Time spent on a transformation exceeded 300. seconds, and the transformation was aborted. Increasing the value of TimeConstraint option may improve the result of simplification.\u001b[0m"
     ]
    }
   ],
   "source": [
    "genEigenCoex = Simplify[genEigenCoex];"
   ]
  },
  {
   "cell_type": "code",
   "execution_count": null,
   "metadata": {
    "vscode": {
     "languageId": "wolfram"
    }
   },
   "outputs": [],
   "source": [
    "isStableCoex = AllTrue[genEigenCoex, # < 0 &];\n",
    "isCoexSolPhysical = AllTrue[psGenCoexSol, # > 0 && # < 1 &];\n",
    "regionPlot = RegionPlot3D[\n",
    "    isStableCoex && isCoexSolPhysical, \n",
    "     (* && genxsolCoex < 1 && genysolCoex < 1, *)\n",
    "    {l, 0.5, 1}, {q1, 0.5, 1}, {M1, 0, 0.5},\n",
    "    AxesLabel -> {l, q1, M1},\n",
    "    (* BaseStyle -> texNumStyle,  *)\n",
    "    (* BoxStyle -> Opacity[0], \n",
    "    PlotStyle -> Directive[GrayLevel[0.62], Specularity[White, 100]], \n",
    "    Lighting -> \"Neutral\" *)\n",
    "    (* MeshFunctions -> {#1 &, #2 &, #1 &, #1 &}, \n",
    "    Mesh -> {10, 10, {0.5}, {0.4}}, \n",
    "    MeshStyle -> {Automatic, Automatic, {Thick, myBlue}, {Thick, myOrange}} *)\n",
    "];"
   ]
  },
  {
   "cell_type": "code",
   "execution_count": 33,
   "metadata": {
    "vscode": {
     "languageId": "wolfram"
    }
   },
   "outputs": [
    {
     "data": {
      "text/html": [
       "<div><img alt=\"Output\" src=\"data:image/png;base64,iVBORw0KGgoAAAANSUhEUgAAAWgAAAGSCAIAAABBjsz9AAAAhXpUWHRSYXcgcHJvZmlsZSB0eXBlIGV4aWYAAHjaVYvBDcMwDAP/mqIjyLJM2uMYiQNkg45fuu0n9yApgbT1vi97felp2dgxABc5csRU6P6juNciDXn+X9MfZGWgoRhTluEkhnJXkqKFN+LCAahYcIbnIV8gNQN3o86928QyPusLVffpbh/5eCey76LuBgAAAAlwSFlzAAALEwAACxMBAJqcGAAAADx0RVh0U29mdHdhcmUAQ3JlYXRlZCB3aXRoIHRoZSBXb2xmcmFtIExhbmd1YWdlIDogd3d3LndvbGZyYW0uY29tXKKmhQAAACF0RVh0Q3JlYXRpb24gVGltZQAyMDIzOjA0OjA1IDExOjE2OjMzqrVAmgAAIABJREFUeJzsXWeAFEXaft6eDQSXXYIKisDMroh6ILcz3ucFPRNGgoILZvQE04mepyfn6adnPsOdd+p5p6iYlaDkYM55BhVURGUX/E5FJaNn2Jl+vx8VujrNzEZ2l3kcl57u6urqnqqnnvett6qJmVFAAQUU0BBYW7sABTQVtm2HHUqn01999VU6nW7N8hSwLaBoaxeggMZj+vTpS5Ys2bBhw+TJk2OxmOdobW3tlClTevbsuXbt2gkTJlRVVW2VQhbQIVFQHO0YiUTi4osv3n777QOPPvroozU1NRdeeOHxxx8/bdq0Vi5bAR0bBeJox4jFYuXl5YGHNm7cuGbNmqFDhwIYPHjw2rVr161b17qlK6Ajo0AcHRMbNmwoKyuzLAsAEZWXl2/cuHFrF6qAjoMCcRRQQAENRoE4Oia6d+++ZcsWMeDCzJs2baqoqNjahSqg46BAHB0NS5cu3bBhQ0VFRZ8+fd5++22xp2fPnj179tzaRSug44AKAWDtF4888siSJUu++eabzp07FxcXX3/99QCuuOKKUaNGDR06VAzHdu/eff369RMnTqysrNza5S2g46BAHB0ZmUxGqI+iokLATgHNiQJxFFBAAQ1GwcdRQAEFNBgF4iiggAIajAJxFFBAAQ1GgTgKKKCABqNAHAUUUECDUSCODogzzjjjjDPO2NqlKKAjozC836Gg+eKOO+7wcMcdd9yxNUpUQMdEgTiywbZtMcG0XeCMM84Q7CAow8MUJo8USKSAJqJAHMHIvrhWG4RmjTCYRwskUkATUSAOAPjxxx+/++678vJyLTESicShhx564403bu2i5UagvsiOMBJpaD4FbLMoEAdeeOGFRYsW9e7du3v37q+//vq//vUvAO1CZSAPoZETBYumgEZgWyeOjRs3zps37/LLLy8rK3vttddeffXVrV2ifNEIoZEPChZNAflgWyeO1atXR6PRsrIyANXV1ffee+/WLlFeaLrQyAcFi6aAMGzrxNHu0EJCIycKFk0BJrZ14ujfv/8DDzzwzTffbLfddmK9rLYMITTaQnBXQYxs49jWiaOiomL48OFXX3117969KyoqdNSGXlzrtttu04trbV20jnnSCBTEyDaIwkI+APDDDz98//335eXlZ511lhhVaVNoqHnSdiimQCIdFdu64hAoLS0tLS3d2qUIRtthgUagYNF0VBSIw4VJkyZt7SI42Fp+0BZCwaLpSCgQhwt77LHH1i6CRLsWGvmgEDDSrlEgjraIDs8aHhQsmnaHAnG0LXQw86QRKFg07QKFUZWGIZ1Or1+/vkePHmFvKqmvr9+4cWN5eXlJSUlDM29G1uiQmqVAIm0HBcXRAIh3o/Xs2XPt2rUTJkyoqqryJHjxxRcXLFiw0047ff7554cffvj++++fZ86aMtpCcFebRcGiaTsoEEcD8Oijj9bU1FRXVy9dunTatGmXXHKJeZSZZ86cOXny5J133vnLL7+88sor991330gkkjNbUx0UGkCeKFg0WxcF4sgXGzduXLNmzdChQwEMHjx46tSp69at87zJuaSkRMSeRiKRkpISIsqeZ8Gj0VwoiJFWRoE48sWGDRvKysoELxBReXn5xo0bTeIgotNPP/3f//73jjvuuGbNmokTJ2ZfdrBDuiHaAgpipBVQII5mAzPPnTt3r7322muvvd5///25c+cOGjQojDsKrNFqKASMtAQKxJEvunfvvmXLFrG2IDNv2rSpoqLCTPDZZ5+tWbPmwgsvBFBZWfnqq6+KxT48+RTMk62IgkXTXCgQR76oqKjo06fP22+/HY/Hly5d2rNnT2GnLF26dJdddunevXtZWdn333+/cePGioqKTZs2ffvtt926dfNkUhAabQcFi6YpKBBHAzBu3LgpU6Y888wz69evnzhxotg5a9asUaNGde/evby8fOTIkddee22fPn2++OKLI4880vSAFIRGG0fBomkQCgFgDUMmk9mwYUNFRUVYAFg6nd60aVO3bt2Ki4v1Tr0AT6vVwoK0aS4ULJpAFBRHwxCJRHr16pUlQVFRUUFoNAJEbbQPK1g0gSgQRwvC0+1vy/UsC0S0C/+juxn20jZJBAWLRqFAHC2FgrGQDyzL4n90F9tiI35fNDW+rl2TCLYBHikQR/OjYJ7kCSLSrCGQuD+WGl8LRSI6md5uFySCbUCMFIijmVEQGnkiHo/H43GgVnxN3B9jZsEaABhEkBzR7kgE24AYKRBHs6EgNDSIKB6P73ZqcvFN+66reykwgaCDxP3OqzZT4+s0X2jW8ID/0T1xXxREyZNrPVOB2iyPdEgx0kZd2e0ObU1obN3yJBKJgzq/e8PL6eNvc9Wuh37ruEKdxPfHkifXwk0iYk9AziqxCwQAdO4GvaO91Or2SyIF4mgGtEGtsRWJIx6PH77dsoiFIguXPVvv4Q6Bh88xLA63m0MgkESE3xSQTJEFgkRap24310By+7JoCqZKk1BYgMdEIpEAQESLvx0CMEB/PWzZBeeQ4I7FN+172IXSbDn+Nl58077rV70MgM7bAB99mLIifl9UZEuUmzLQ6qyBZvK8tC+LpkAcjUdbM0+2LhKJxOiKpaXF1KkIEUu28Ts/GxyPY8XURCqVisfjptCIx+PLTigrKbFKS1BaYvCB2mS1mTqlLnFfLDm+FkDiPkOJjA8wZ+jcDa0moomIb+lhfJc79Y6mlKSNB4wUiKMxaIO2SetgQry4yIL+3PRKvdifSCSO7bWstIg6FVFpEUqLiAgE/HHg+wQwo2i3Tl1LP7gYcWYW2n7+4R9bFoG5vp4sAhGK3ZVRtz/NGnCThUki4lBrs8atPfz79c7EvdHmct+2wTGago+jwWgXQqMlChmPxwEQ0UGdlhZFHPp4bMOQ8TsuKymiTkUoVcRRUkQgkKpdFlHXTtZ2JTjphYHzD/+YLDpygbNi6/M1KyMWlZaQf6FFkzWyoy2whkbi3mjylDrvWZPWN3sJt5YYKSiOBmCbFRoAzv958UGdqchCxMKib4Zo4UBEp+/8Xmmx0BpUEkGJpA8qsgCQaCgEdC3BCS/stuCIjyyLiPDkqE8siyIWLIv2nylJhJlTRntrEGugtSa8NJo1WqIwW0uMFBRHvmgXQkOjeUs7ed+S4giKLRRZpIXGA18N9iS78afLS4tQEqHSYiqJkEVskWNxjH12twVHfGwRLAtkkWXBsmBZZFmIqA3Lwt73xQAISmoQa8Tj8dWbe6z9+CnzULNXbxGioj0wfoIwWUMkYsCatL7XrsPWfvxUaza3FhUjBcWRF9oXazQvLtu/ZLsSFEeoOIIiCxGLiizc9dlPzo2+V1pEpcVUWoRORVQaoUlvDhLtBMCcQz8mIgsggkV0+MKqRcMla1gWkQWLHLLQ9AEgOb42cV9M6I6crlCBeDyeHF9L56bMnb12HUZyJEaiWRotEaVS8kJ8a4/EvVEzcyIyqURcW7BG0y/dULSoe7WgOHKgnZonzcJ0fz6gpCiCYouKIyiOoDgi5cZtq39y0cD3BWuUFCvXRgTCM1oSISIcPt9xYRDRs0d9wgQmgGARLCJFIrBI0odAmHmSuC+m7aMgc8Y7TkvnOqaBaLemGGkuEnEydEjEJUbIYI11nzxt23bTr9tENItFUyCObGinrIHmIA7PiMDdR5cK4vjryj0v2+OD0mIqLUZJMQn66BSRbtHiCLFUGYgQ9n9M0IceWsWLx64EkaIPSPpQV8nTqZG4LybyZObUKav0fvbzh7iXcBIhoqY0ZiIKYKVbewAQPLJ6s+MNaWVTJU80TowUTJVgFCK7AJyzT/F2pVanIi6y6LRZP6jdqfJEl9JiKi2ikmJpqgjWiFjEBIZkhP0ejb1y3EqWIVIQoR0/vz+mKemN39SRdoIwEvdEk+O9LgMFFyEkx9cl7osCSJ2yKn7vACi3qEMiRnJWciB5Sp32UJq2Q9PNGU0f8uskQSIuC6VtsgYaa9EUFEcAzO66/Xo3mlhyIpq8X0nXEiqKoNjCI1/uObHfB0URIqIJM/+rk315VbngDotIGCM2ECH88oHYayfXCtYAyQ/Jj+AS/OzOAbr6EVFy4irYDFu09WxlS9znoxgCVCevod0NmjVES84y+NJQc8ZDGSb6la37dEtPfa02SxxhyG7RFBSHC37bpJ2yRhNBRBftV9K11CqNcFGRVUwMoKSIiiwQ8e2jOqUZRYS7/7Pnjv+bAmDf2oMBITeY8PN7BrxxWh2IGATh2oAmDtLq461JqwkAI35rP2aO39lfUErytLow+qBz11dXV6dOqWNjvEZbKIIp9FfBI8xMBJq0vrq6+tMtQFZGqK6u/nRLT/0QzEONa/btiyxMZA+BLxCHg/YrLloCXUuoSzEXWVQU4WKLAJREUBQhAoojuHv1HgDOii6fkEI8Hk9MVWMKZ6xK3DHgrTNXCdYggmzhBIZDHFDcEf/rLkSUuvD/AMBmZIAMJ/7pCIfkKXVQoSCi8S9ZsoSWyKPCm0Bu74bYYEDbJr12HdZr12FEDYuk8MiTQIsmHo8DMlvTnSFLEnRuO4WpwVFQHBoF1vCgawlEEFdRhIotAPLrNR/sDuDcquUAxk/77wn/dHrUD+9JJO4YAGDvfw8AkEql7Ae2N1kDBnGAEP9L39Qf/6MMGIAJGUaGkr/71CGRf0f1YEqvXeOfbkGvXYf1K1tHRAzQJGcI1gzKEnwhWrU2JfLs/MMMmTC3iN7fv5tDTKaRkvPScqmB9qBNtO4oEEc7HjppIViWdeMRpZ2LSY6/RiAUx/Uf7g7gqr0+3Pw9H/vwfwF4WGPQb5LunBJ7/11uidgHe8aOUoNYSFzdN3XZZyAL5pxXm5BhzhAyTDaQ4eSk1XTKWjPTeDzODB1MoWGGZp54Oy+/O5FKpcJau/fc8Ebub8/9ytYhyK/x6ZaeWl/sst1agATB+ZWIH/az/dvsOu8a+i0fKBBHQWj4wcxdS60SC8URFFlUHBGUwdf9dEVxBAw64p5vTcqAhzVU8xx0mskjCQB7/wVQJMILLCk0CHqDbUaGKMPIEGym0V9BscDup7lZ6a44iMAMYI8JXhLxsIa/TXr2mNs5G7CeSh9GMcz86Zae/butF+4SoUTW+vJxIdOmKcOPbZc4CkIjCzoXSQvlhg8HAbi2+sM/LdmtUykR8763fxPAGp5W7YuoEAkeOptOvJ0FiSQuA+AIB35+ZxCICTbowM/EzhNvZwABrOEmiw/uSqiLYo8JKc0a/crW6TTa5SkvF04NeXb7gckCSUcrkWzIwF68S1sWHZ4udhsljoLQyI7SIrppxSAA1/50RXERFVtERGDe9/Zv4vG4yRQf3u1nDZis4TEPfCyQkP9c4JCI4IuQ9AHYY0JSX2b5XZI1iMgki35l64TtAB+JNAjZ27b/kGkf6W2PwLEX9EXGBmAv6Ns2ucPfXrZF4tiWY7pygoiqq6tvWoFrfrqipIiKLBlzof7I5p1KUXV1NYIcB9nHDzws4CcRs9lkY42gy3wwJb5kyRJhoXian2k7CPoQJc/HAWEi/1YtUur02bwtGT0QBHtem9Mdgb3stkUchXjQnKiurr5qrxWdiqkoohiDcP4bu938PysAvHT2dt/V4/t6thlH3ScHRVMpMWHUSwomPrgrrlpLWFw4dj8t+eDZJDwa8DdREfLhhcxq+V0JAJo1ssNUHOZQiCYRvWJACzVgcyAmlUoJuQEQKFfoW6vDwxr66zZEHOYjKNgpYViyZMl2/7MddItUcVZaczCzRQAwZ3xXAFcs2+3ywStG3SdlCOSoB7t9EHHxNZXKb9VQwUEEKEaQOycEE9MHU+J7TEw9eFZoEKdAIAuYiqN/t/UACSpZvblHnpGjgclE2Gi+Z2XEXrnHfmzneDzuHzZqU2grxJFOp9evX9+jR4+wt8Bv3ry5vr6+R48ejYilKfhB4TO2/TO7RIIXzlKsIalChxiQGMVgSOJglSZiQZgtV//0Iwt82N0pAEvODiaRLHjwbDrxX7z8roRJEOb2B1PiWgvo/XmyRj5YvblHv27rP93cAyFKxIQoSRPDSVOplD1tJ2TYpNPEX3onJ6/Rv1cTp+E1BVlcgW2COGpra6dMmdKzZ8+1a9dOmDChqqrKPPrdd99NmTLliy++KCsr69q163nnndegzAt+UFEFnaEQY01dUSnFdjwev/lnK1ixhuINArOsxMwALCJYDHb6zMve3e2an64gggUiomdO346ByandrvvpikPucpGIsGg0Hjzb2wcI16ZQLtlhpllyFulw8pzPIQdUIIY5FBJIIg3SI9lCvMRArNfrwfbDfazjv9DRqzrDViOR7A2nTRDHo48+WlNTU11dvXTp0mnTpl1yySXm0VmzZm2//faTJk0ionQ6nX+2BaEBgIhOuD2gvp5wOy+/K777hJSulKlUCj/bTrGGqse+uq5cH3zJO4MAEOHan35IRJZFxAwCM1g6JHjRaV2ZxR4Mn+qYMwL2gp1QRBQhFAERQhHFf8uZxX0z9bDTnKln9Rd2PWfSbPzFMXMG3H9o7Q/1PPHZyjxVfUP9mhpZzJksmQQGlQWYNhm3+4bVTiMfsbiZ/pqlqM2FnN3t1ieOjRs3rlmzZujQoQAGDx48derUdevW9ewp7cN0Ov3KK69cc801H330UUVFxY477phntgWhAVFN5+1MIwiASR8f3p1g5t0npMg99rmfkgAvnV3mOPrdsCJ00ZsDmfm66hVE+GNqYCRiWWCAWap3WZttQRksjmHuKV1H3vstfxLj/9r0rY3vbPzXRoZZNwZiAJwBMqw+EIHn7PoKthmAbSNtw+zSWxSiza/e3KN/t/Wrc5kzYb4P0+e69uOn7Ht7wzaSMRK37JQ893NkwEBmau/IqU95psx4LLJmX+IM+bWdrU8cGzZsKCsrsywLABGVl5dv3LhRE8e6deuKioruvPPO3r1719bWDho06Nhjj82ZZ4E1ANx5553V1dWJPyMe35EZD50t6ePD8DHOE29nYT44Pg42uIPovNeqANyYWGHrgE9CxALbgh0kaxjbkjUYuGLZICCVGNc9ef96RNQyPhkmgjTyxahkhmGDM4AtthlyW8SVss2yrWVsZOx8KSN7MtOmyNnm9VGTLPQQrwgbzXItV+ba7NB2JJFgDbEnc1fvyISnsOswP4er+TvDdAFagkTCsPWJIzsymcz3338/fPjwPfbY4/vvv7/44ot//etf9+nTJyx9wTyBtqif3oUzX5Na4SJxeRzAQ2eL+IvgMdEHzyapNYyppsLZ/7s3BjLzP/b5OGNzhhFRYeLMYJslO2jWgGh+kjX+vGwQM1/2k+VHCZOCgQhgARbwI0DMWnOQyRfMBl8IBtEqBoDNnLFZh0vImW8h7TZ7QzJtipzxXYEcJC4qCtC/23r9N0ewmXBwuC/IGZOtkbljx8gZT/ldv/4B42ZZnSjPTnfrE0f37t23bNli27ZlWcy8adOmiooK8yiAvn37AujUqVOvXr3WrVsXRhwFoQFRd1/tjzQjzZSR81DBSP55DWwkroynUqklZ1vV1dWi2ukhjwfPppfPLvPzyXlvDATw930+1v6OiPSZyuptsoYNMOOStwdetdeHDFy+dBCAy36yXCSWo4yZAQBJ0UGMjBA4jB/BLAwTaCNFWyicgWAJm1krDuEoXHxmt8P+vcTse3XhcwaJetpeICl4XJs5mWX15h79ytYJPZKjMJkga9Dx4wlODC18lpI0jkSytyDz6NYnjoqKij59+rz99tvxeHzp0qU9e/YUdsrSpUt32WWX7t27Dxo0aMWKFXvvvffGjRu//vrrnXfe2Z9JIaDLBWfmGDMTCWclI3Fl7+Sla2DvBAKNXqJngoiT4vE46CNRy0T1Ou/1gQD+sc9H570+UDcvy3I8Fxe8OfDGvT9yWENJDACCNS4f/KG0WcwGYINtJotgAQSkAWJkSHa/GSi5wciAbYhtoTWEnSKYQ7AK+dq6L9IckI0nwAzJpzduiuwPCzZLpVL2P3dAmveeuosSgFIG/uzuvvrKYk88vksq9ZSIo29EYfSJnndHeNCgfnfrEweAcePGTZky5Zlnnlm/fv3EiRPFzlmzZo0aNap79+41NTV33HHHiy+++PXXX48ePVpoEBP6hgv0QUT8en8GicW3YAk7AGo9DAByZS37sZ2sMQTl13j1nLJJr+0q+l8oyrhln4+cSmqRcC2Yngt4tIb6SkSSNeAkvuaD3f+0+/IxKSQm9EzevpZtJiE6MrYsmzD4DaeGNlgM1mC2ccLi2F0HrfzuR0EgMq4kEJ52K3gkbDSkX9m6T7f0yj92M7AZ60gTTwL//Pq979mFmd8Y/39Q0mKf+3d57eT/E0d1xvLfE7bv/PsAg0Vnnr1UOemmoWq9TRBHLBa7+uqrN2zYUFFRoQPALr/8crHRt2/fK664YsOGDeXl5Z7wMI9Ho2CnAKr5EkFwB9SG6by3QQSeuRMINIZem1QmjXfmc18fyMy3/vwjkZKgvJ62+Nfwd7IyWIQXhcGM/313kDjRozW0USNhAzYYUNwhnKOAGlXRwyhsSz+rsFAEiQBs28jYMgotu3vUbEjmaIjozc3GnE9/3r/b+tWbJRmF+VA9f8MSv3TCpwDqMy5jpD4DGC4O7SUVezySwQww/Tp7uX3DMU1EmyAOAJFIpFevXmFHLcvS4ywaHcyj0fRloEj12ySJw3FwAC5nKLkvcs6rA2/7xccAzn1911sEZZg+DNGiIP4zPBoiJ4YYfr30nUEArhjyofaGmqwh/aaOtcIkuMMCLNCPACnFkWElN2DbrM0TzRrC05GxZegqMwfyhmYB/yNdvbmHPtqv23p9euPMFvOH0w07x+obwKYbe9WrNTjcxOHwhIs+gHV/6VW7Nr3xv07qya/zU2eX5yzzsNs3ZX+PXCOaUlshjoaig7FGIpHgZH/k1+n5oftc++V+cqxSWChadxDil+6QumKN43izFbkAAM55dVcAt/78Y/ldFcJlkjiGCZjIFl0/2GZc+s6gK4c4hokrvWG/iKySt65NTNo+eeNXyDBllBGUYYixVTWqYtuGU4OFwSI9HUQk7pLUAKr/mXgeow6+MI8S0afuIVXthhCJ/U6B/vF4Fk/Bq+dXSEIlnPNi5V0H1RZF1Hsz1apIEYsOm9kvY3+qSiLPHTa935NjPxXz3cyyK3YBA//9wXVTzRK90rim1P6Io+MNuBIRv9Evccb2b92+lt/o1yDuEFVn2YXlAA++aTOJTltLDP+cMqd7hTkoe9svPvrtK7u6UjotXyZ17BQitsXAJf/p7UEArtzrQ8OKMdK75AkYePS4zvSL1fF4L2GtQDhULSCDxE07vXneZ3Y9sw2DNZgZtq0ZxAiYYukb+cNrlcASNASBjd8vE968oEI/z7NeqLz91yvPep7f+L0z6ucxJXTRtIPZO9QKZGwGSCom9+lyp/m/SiO2fzQiSie/Xtl03mh0B9zOiKODCQ2pcl/tJ1Q62cwgfi0v7hDnvveHcpi9K6uPblVKd3h7J5HMbbRos8bQCyqmy+XdYGa+eMluAK7eSwoNg2jcORhn3bBidwBACoB8hYqttI8aUmEbbBtODcaIaf3MUoqH89sXK+V9MP/tFyv3d/OGnxc8pBCPx+84YCXJDNW8dvfjCUT+nXxgyowtqTptOz+ZvlbaZo+RAr+X1Mi/oR2MBw1qTe11BbCOJzQsy+KXdgEg+tDkP75KnLND8pavcp5VXV2dSqXe/0O5bqIABt+0mZ/vB5tZTRSRpEAAkLhkx+RVX6rp2zIrduZksg4wl+aHizVkYk0Ek1MDAVzz0xWXvjOIDbISaa56b/dL9ljuYY0bVuxOhAsHfsCM44U7z3a4I3G9DMzZ+9ad/Lc8Z8zqTAbpDKczSGd4/JOxOw6orc9wfQYAfv9qlWgUJlm8cl45VIiaGuCQN3vm87E7Dqg983mZMi8eIJz1fOW/fr1S66nwhKp5B2Urho9Gzx0w56hVHpNEKo6Msw2fnPFQR4NMWn/iJvbB7YM4OpjQgOgunt8FGcihU8iqxhkiML8YsAyUaAAfXFR+0jNws4ZKZzvTy4QVwpDWijd4QbQoW9dv8cJXCmQNfYgZFyUHEuG66hW2JhSoyu0IE/azBoALd/2AVQEBJC5xph0lz/8cGU7csvObZ36WznAmjXSGM4op0hmpPlTol7wXixyb7MVJ5Tr2lBQdkAzeUE9X7Tzz+UotN4zH18zwPHPbBojldBzBGjB5gYnIkSFu14aZWKMVpudkQTsgjo7JGk/3RUa6+QBZp5M3fZk4f4fkX78GYD/vGCyaMiA7dq/vbMhNm+Pxathfyx2KAOQ0V18Fc3bYDOC2X3x0zqsDgWDWuPCt3W5IrLgouRuAv8RXsLIgdGbCP6oDOmGwxl+WDyKiCwd+cNNHe0jPCBhA8s9rEn/unfzjFyzCW8XgK8QGbFuOtro+Gc5kYNvssJ0KhzcpAwgSGhSoALLJDfK20wbDyJttJmZdDEUQbucIs0EoYqcpN9hbHh0t0gg0vU21aeLoeOYJBGs80ZdtUa0drSE2kjd8lbhgx+SNXwLgZ/uKMPzlk8vN7t2J5DIq1lvXfZ2YvH3yuq+91Y0Qv3iH1HVfmTO1nYuykw8QwBpCQVyU3O0v1StE5das8b/vDhKDryKlzU6vKPZc/+HuFw36QA3EMNt8wrTv5JV+ZGbmNCMDllEbgJy3xrYtucO22c4IyuCM7bhFHbevnuGinTkQ7ZNMHjEh2lvjGlyDztK2mxgVkgFhkLfpdakyiChtO+fC0JKBmqhBN9GvbJ328jRLT9x2icN8+0tHg81ieRxZcwh6lpc0KzLSzjBZQ4Od1m70+6JV6a5MHyHnFG9FI1f1RRBrXPjWQAB/qV4hDjkWiqrymly0W5SIrls+aMmSJUDqWGehjCUnLMGPD/WhCChCdhpEsAVfpJlFaDmQsVmLC/lXMghImhRIAAAgAElEQVTYdqsAQ0RYJMZovULD37LMHY0jj0acJB2iBFIhJxm1GgAMhocccHHcTPKIm2LMqJP8uWPJkiXiis2l39sicXRIoeGCtE6c1kx6dIOQuvbLxB97J69dA8B+Ymfr0M+0kQLlcQDUDqIhN27iBX2RQfLKr+J/2iF19VfOwIYwnQGyjSanoGuhoTiYQczMRBe+OZCZb0h8NDm1W4ijVPoyRt73rTvjFICNf+1FEbKKSDAFFYEiJAZfkJatxk5DzWFT89YEX9iKQRSP2LakOWWliP8kt0qOCBEaQW3L+zDyN0zytV9Uuoy2RA2mS2dcrKGeKqfVaLrHryG+2kZfQXmPqujoLzSr1d/miKNtejQsy2rOJdtcObG3jhOSV61J/Kl38qo1BPDCnemIz96fXGEGMDArspEB2LIrS13xZeJ/d0z++UuRMYC9r9gxecUaOQPV410DQLDv3tE67Uuxpp/QDhe8tRuAGxIrNFPYhgw58h5NE0tGLAGAeDz+0KG1EQslRVQSoeGzBzw5drXgCJuZmIhh6a9pkBrwsRVrsJrnKsSFbcNRHBkWakI2JwLAJFWGdnYYXg/TG+q6Vdf3/MZSGu/mECdmbDZds5o6Tnkq5ktOAP/mqajnukQOrRNJZaU8XyCiP77hrLPJaqK9+Tcep9WbG3sbCm36vSptVmgQ0Ym380n/cvY8cFbjs6qurgav8Y6s6brscqnJHTx/Zxr+mR5JkVXLyIG0/0KSgc4CzOziKZafxE3mwOeXN/9sxflv7nb+GwOJ6MbECmWAYNiUb4DUYcbSfB9f2t12t6fjF3vbFzPbTMRQlKG+pp1wVoA4A84w0tJ1AjhkoX0czE5LIhKkIY0R/UhNpiDTD2o8zAAzrWk4+wUnkASKvEzzgYjPfL5SPxJ9SWa+88BavVf/kmc9F7t9/1qEO0e/+ZF1Nhe/UQXwdf+zMud9CMWB5u6S2wpxhN3VVucRwRqenYJExGJZjZld4l/3ybme/Ju87IvE5X2Sl30BQuKKPsBnbr0h69yQv27mx3cyl59LXvJF4so+yUu/0PknruztuT4zpy78HMrFQBNw/pu7AViyZAmAAw2aWHttzwxrw0GsneO/H2/ttQVfgMFkMySDpI24EWmqMGcgosuFcjKMFGRsR2sYjwoGech78VJGFr7IhTOfrzQbv0kKZ71QKa4iKOP2X6+Ez5rQtzbppcrb9qt15I9x42e/UGmOnoj0v30hdtuvazN2IGsY8f/GlUxayXmbp59+evM2pTZBHG3TPEEQa5gLc6cuKI//dVMj8lTr04IB8vOOahPJSzUFMD++E43+/L0/lLMT+IFTnqsClsAlNyQSV+u1jjh58Reu/Fl5Fmy1od7PFo/HXznhU7HG1wGP9n+qZpXNQewWeF8ybxFWCs0XxGyBkGbbmHZnmiq2LSfLQzhHlZEC9gh1XRJD9GslYg6yhJRw4rMxY7tSqwCT+u84YKXnUQmIADCowPOsT8IF2dhtF01kXF8lN2UyBj+YDlEvbwZfJcuvM/qA6J133tmhiKPNmicwWMMki4dP3K5LCXUupi4ljfTLv3L+Z4lrd05e/Dngqv0mGKzzTlzd562LP4cNntGHar5Y9odyAKc+tyszTz3gk72WADYnbtjJrP2pyZ8nbuiTnPxF4vqdUn/8gm1dq5SjgwGb2ZZr6qRv24Fttm384gEdxAWIKqvaqloNKNDwd/ZIKSH4gkmYRXZajoDKD4EYzGwrt6hSHGSrIA4NLSLY6FtF6BezjHgVz+p0xQsm3Zi466BaSMrAlAOdxu/cb8BJjQer8WmGVzToQC/H22m8r94cHddb7K5u+ufOR2s8/lxdo+4gG7YmcbRZoQGlTgVlXD6skyIL0UFBaYV8a5oIxxDbmbRwZ7p/cnZt6taSnPx54vqdpAuDwY/2pmPXxOOYuv/HDOz1183xeDx+Pacu/NwoOmAjeeEX8b/0AZhdUcyq+tpg28Udjh9UTUiFWqYcvtrpIw/Z0ZOad6I8oyAGZYQRwZo1LECGvqXZmSlvDMdCuTFYX14tLXLyE1EinPZMpXNtwhnPSS7Iaapo5U+uPaHI6R/NksB55j4i0GcFUrEmPlNjgVWkrDHs3WRHTeOxdYijLQsNKBfmUGtZ5xLqUuy8z9OQ7a6+IntWAJ6a0LU4guII/fL2b+w0AJDTqXqrldL8eqyU49f30WNv1dU7iXxF5Xrrd58RXK/hUMO88ursHvkTsCVx6JBPOZ4C550GoptU3WZ+0DrFsVMy7uW5CABUpDvbGUkZDlWpYI2aBQOcW9AhL4R7h9Wd+nRs6sErbfWT/OaZ2N0H1WbX6u7rN6bBmZ2Et6UrXlPtWT5AFzsEnugrm/9olnPz6bdmpMfdeeedzbuEj8BWII62LDQEmDkej4tuUzc7c0NpjmwVUFTP2Sd1Lo64pqDaadUdB1zY2dz7bzubnrnk7z7T3Q2N/5L37yavkmEYU1z1mjZOd2cqDmPqqlweXNyjjOwEVGySqTgkjeTsfIXcAIjIFn6NDIsRHqU1lLWiRlXsDB/22AAzh9HzoqKA046ocy0y6ru0FhdiVCU7FWiWn/Bs7K4DV572jOPskLelRY3vLgk48/nKf7t9H2bK4Abv1I0cD06JDjaTBlhbeTx/TyrNGlmW8Gk0WpU42rjQ8IB97U1tsHaqvf/HirDZaA+P7VQccdqxzi2T5lfP/ix+086p338OHxI3y6WYk7/7DMzxv++cPPc/ABJ/75s85z8yq3t2pN98CcC+e0c7A6ddKIerWQzOBEhl1kv+apvFMVVUyAYrNydcuiNLBZZ8IfLPqKgKgAjDH+vveT7MfNhjA+aMqhM+DgaOmR+ddkSdoK20Wo8jxJQn9f5aZmMFsLCCab/pXQfVnvZ0LDyRSzsYCHbtuM51iw5jN0DO62kC6SSEelx2Yk6LybM9PT1ubNG0O93B5o1DYE/fesTR7kLIVftxmydqSxsWeQtfmcxOC9GhB2U58Y++moyS5/5HEQwSt/ZNTfqPMEPeOvs/idv6vnXW/wmSSE/ZAYBtM5ywKOX4VEWVIUAZsW3cF6QH1JZuDoYtm+iTNauGzRiweMwqW62ypYJE5d8stypUiYhuPHrOANKNFWDm+UevIhXBJCTMyDnRx0fU1WcEa0jbKK3WCnQGUwIfpW6Z7nkn+TBIjoDLYOlBMJu32spijLgvEeQUCilCGKF4tpG15gnWENv/900vzyt7mwWtRBxt3zzxQwp5dj5iN8NiIqhu018Lh1VG1pXvdfz0JQBmndiZnbZKAOw0Z9IAkPiHEhdCSohLZmDaHpwxwowhe2Yte8zKZ6giiVfO+M8v7+grcvCIDma5CLAtPR2QhosO32RAzUwxiCOgxR2/OMbMxy+OmrEPM4fXyehvFcqp2cF4pPxjms38AcpkvPn7cd+w2pOfjN5/SB2A8U/Hph5c63kUyNpL67BL8yxXQw6XHl6KCieHLKIj8Axpbrn5COqVV57TLnqt8oZ9Vl70eiXyADPn+W7dBqHFiaP9LkSu5YbzEfQhq3lABIYGER29R1GXEjr6we8APHFaV33o8Ef6AyBC8reKL/ScSDUqqD2ntm2qG/Mru9boZZiCQJstAKTiAJv5COKwWWkW41VsADKSIIhdxME1CxyRrynkkcNrj1sUffiwOhLvVwLGLYrZLIZRpFPD9YJI9fyIqF7RhNNLG43HPBQG1q6BIKoI9lkQ3X3QSigVwWoYyJvYlB4eUzRICPg2yH/IWziDm0xnqvcSZjCLkKYkbyTokbjkRpZkTUTLEkd7FBoCRPQ+Bifwnqk4GMxkSRIxFobIggl7l3QpwaF3fwvgxbO2AzDrqFVlnengR/pLWQ+XWmDzq2IKqLpr66XlWP8xLqZ3KGeHGFVhONlqxSGiudlW3GEMptiqnR8tXZUS0w6v9YsXE+oo26ycQAb/BiWXCOjw1fFABjHCuvV4i0GXQfQB596zcZG3JCFpncsFiY5zXozdtt9KX6Fdng595HcvVwr/7vmvVCErzEkok9+oAjD5jSpPgkQikUwmUyT3x+NYvTk79zYSLUUc7csP6oczHinlhmgDxDaDKaw+mafrNsaMeDx+euzD/f71DYDv67mkGC+N/zTxr35vnvF/uvErteEwBTOLCAt5lJkzDgXoU9QlAzbFWAkrveFiELFfjMXasJlHzJY0MWpuFAARZh5ZJ5KzUcIszUlpFvLPB/Sf9OChdSc+EXvgkFqdwNs3ZmOQ4C5cJggxVLRrILj07mRsfgkqvykoznrBZTUw829fiOlJzKwWTdBW0rkvVeqj//jVyt+9UnXzLz8xTjeyUhum3+cPr1Xe8POVk1+vun4f5ywA0+vHjS2eNvbnzmkHq4kqzY4WIY72KzQ0SL6XXI8vkO422fxkYRDZUOXM1YzNcyeU7dgtkslwJkPpDEO4GBzTwzlLbBCRbby4nKUWMEWHkxjuDdZ3kWE2iEaX+eBp/T3lnT2yjhlHz4s+NryOGccsiJo+jUAVrZ9VgCnug9lew3ILbvIBDELuEwMae5axljBDwJNm4rMx3cOfYcxhMaauSeggdPFj/fbFSqk4XAJN/nTnvlR5y75qnktg8Xy2iR+TX6+6YZ9PzEOCNXKc1nxofuLoAKwBLQul1pArbhqSHsy6n/EuzC9tBJmPDCVO28jYSGc4Y1M6w5kMQbyaRJkncMkNebJtQ3MKmemdNPpPAH1ArH/LzMCB0weYhVw8ZpVtI8Nyghlrz6tY94HFhjtXnwlgqnrXoE4uuPx/QV7D4My040a5NgB25aWOuzJxZ8fMpz4dM0wcV54mphxYK3ad/mzszgNrRQ5nPF/57/2NcHW4fgJVloDoL32zAQ/B39KN72RcJeR5YFr9uHHF0zw5HPzPHO9hygdhzbk5iaO9myd+OFpDVQ4G/vLeQNER3b7fyi6l1pCQF3oI28JmuTRXxkbaRn1GLMNLYikXw4UhzzHVBwunhtFizfQMNsML/Nrg4On9AT5gWn/RQhaPXqXkBjMjnVHR5WKOmbq6GGpRDJLj+eh24nw3/s1+tsdgOOlJx2zxJwgnEUJA/0qnPh0N90Dx1IOdC7ESYuJLIIV5vngbvNvNaY5De1MH3QSHZAu37sgHLa8zHDQbcXQMoWFCjJ8Kspi7dg+9/6I9P+paQl1KiREicyEHHhnIqCVq0jbXZzhtczpDaZszGQKko0HJWMCjPrzM4nZ5mJ0kA8AhMwdAaSUAi8esOvzxAQuPrhMNoz7jNBJjuETFTaiSe2S8zjysRpL+E7g367k6MeWq736z4+QnowAx8/gno962CpjUYF6fgd88XRnawpRu8tJH0P1lKbIz1uPOW47GhXhyAk5xjxmHQcgNM7dWoI9mII6OJzQApFKpeDz+rj0Y34N+oBE93+9SQl1KqGsJwW25+PHUJ+l4PM5g2ybbEoMnnLFRnxEfzmQok2FmtjOqYpiUYf5VTCGqnMvlwThkZn9thANYeHSdIRyQzgDqncaKMtigDJVrTni4wXfiI4fVHrc49vBhtfDDPDfLFVUy/9ETn5AuWz1oygAR3X9ILYCTnojef0id/1fwCBC9jwL2BRTGYz2xJ6bDIzECRIdXqbjO9TpoXIn8Th82DkHdvk5gskbwFVsGTSWOjic0TAymZV1LqEsJSTeH8YGx4cHee+8tannGmWlKaRv1GU5nOG2T+EskRx8c3eCMsgLKOWomGDZjgHkhwRSaaOqNMRd9Sr1yjoa5AD27c1c40ciDR1iduwg9UV3GaXXAiU/EmPnEJ3WcCOuEDx4awEcnPRkLNCI8NlMQfbiThzRXD3eQX9JkbZr6CZCmq8CreJCFO4yvF71edcM+n1z0ehVCWEOf1aJoNsWBDic6AKkp9MfzlUMUx1tvvZVIJL7Ybugu371rM2dsgoV0huszqLdRn+H6DGWkj0P2wo7oML4CsG0cMrO/Ls2i0avYSJy2nW0tKACXpghasMuFRvZOvqDGPGvq8YsFO7AwNE54IgbgwUNrT3wi5uWIPDRR8Aiumz6CMnFatPjGQQFgwmyZ+FzlnQcEr9wTJjpEXIbn4XjNn6zskJ2XRFGzsIZG/27rmzhRJQzNQByaLzoegwRKDJfcCG8uO2x559Pt9gKwu70MkEZKfQbpDNK2tCPYaPmmAaKvf8jM/posmHHErOickXWKKdhW57KRg/FveOfvRmADy+fcLGOZAI5dFPU2bMC0aI5fHHvoULnKZsDl8naUeMvfMAHikRq+7244IZ4hjZt8XwNSGSxz3stV//jVJ3BbJVnRADGxenOP/BM3CM05quJnELRnEiEitVCFS2uobQbLyR1+9Nj0zlflQ/v+992SCJaXDCFI1qjPcL1NQnQ44xeMQ43Z5YtG12kiOHL2gLTh1ATkSpxyTzabIGDbRIh1b/zNr35q7jhucQyQrlmx/ejhrsGLgDKwt6WHXMNIk7Vd+VWD+T3/sQnPdfwOY80drmBQAthZW9DFquoEysFLwQaL00WpXfF4/FglNxojGPNDFkdEiwSAmRdr1zKEfR9I3gCU1+PDiwNm1jtJgYGZZR8XDXl6857YjEm7fZTOcDpDJz8VJaJhM/pLv+ZRdZod0ioqjOXbvVjaHQyIo42DuzfLo28LoA5xyrGLvDPTmfnRw+sgj0b1tnk5TybwSfpwyyIgI/VvQCednT6CdgRIJ52tmEFDjuoJ5R9SVkS+uiHMgsqShMDMj9aPS6VSx+6TJScc9M+WihkVaPFRlfZryDDzcmtINS9zuzacyI7sAxMiXty2iYmZ+Ved39+hm3XbR3uIPvmO/Vee/lxswVGrRA5p2/FK6HB1JTHCi5irD/UuceNxCIQ7OE2M89HEtMNdq/gDGLcwmr+zJMhwCEiQPY2TKKvJkJ0+TNWQhTv0F/IfDQpg85eEQ1jg3JeqAJz3smeWCnt/KmZWDp1EIi5mu174mgxgNfstPcpWXc2fbkFLLOEj0FTiEEts6L/ZU4qNdsQgsg3Lj7AeVEgoctgLUMlUABhnbJw24MPuXaiii1WfIVLvCg10aoahQb7MHJUmJK+xC6PibEEZ0w4PGmcN6h6lTUH56Rm9IaeoBst2AV9mcgf7VH1gDvroKU/H/HNwPWZIqMfXV0B9XU8Q+lkviPh0wLcwrWjYgi8AvuVXn0x6qfLWfVeaiRiu+2FnKTY8+uO4ZDJ50y9W/uG1qpt+7nXZmpm0A8UhkD8LtCNXCBFBqgw4IaRuuZGzGYsEaTmeIodj6zM09eCVo+bGHh9ex/n1/E6pjGxzYuzC6PQjvIaDkxVh7MKYZw+AaYfXjlsYDaMMsyTSwjeaPbNDIk45g4qbf2cY4u70JshOH3meYEqPCc9WEsmF0TXEHBZzzx37Oy3/TPUiBWXpwLN9zouxW/f9BEGPThfNNMBMaYWsvqcGVYwmYmuuct4uXCF6rgr8Lg/FI+Hnqp6NyGYnAKw+QyKEVOxvHBpoGTjwMMX0I2rhZi4hNPIsV4CLwRf+pP9xUnqMAiVV2HfIfzkoxjlxcfShw+pswwzI2XJ0sFzgSxjV7FVtW+CuA1dOeLbyrgMdIpj4bOVdB7memBSiPrtG35oTtyb+EvlSBXk3fE/2kR/HpVKpm36uSCrcRmsF7mgTL2RCGzZk/IEbptw460WhOXOvsCSjKpgzNmXEKps5W0mTIWqomyl4+hE+HeFb7Jf0Ijx++IpMgXvDyyO2WO0JtHeyPxu9DIc3a4M+TvZSgzgRIkpdBJ5K9lc04LlgNpeH/8Yc7uBQp0ZWr1T2Bv/Ij+OOK5mWQhXcjzGLf6dF0VaIQ6PtMIiIOteLb2htcctHu0H1G7fv+0mXEhoczhvilF3r311SNORgfl/ZO8wgm30+sGZCzYKo3iahKRoO5pDCBTds01TJl0R0RGZwA8uDQU5YHIVbI2jcP8x4P6vC+KdiRHTfMO9sumAW85XMbLHeVXmcxBSQl+dKngwNxeTSIOr7wz+MO64kJNYrnG9a9L0rbY44NNqCK0S9IwNPb94T6pc4Z9cPxSS3rioUPU9I3yfA7nllTcfYhTG9PBSAGUfW6f3+xHlawtmrnWjYgX7EADkQgrxizIDjnwi4i+MXRwE8fFhdtieZh/0SIHk8RkceMKnH3BMuPeS+SS9V3brvJ9nL9sD3444vnRYYH5fdZmnieEr24Y7miRxt0RkrW9EVwoylGIwfcGDZ+2KGmzNvJTzkHMD6iqH6mGkMszHHrCk/a81CGW0FgIjCNQUbnbcL+bgDchYji1fCvGJYRtOOqDt2UeyRw2pFYhWN7jmPPNPnmHHCE7GHD6sT3GFey3shn/3iP658UOwhQfHttGcqxQKlAUf9A7FhfGkaMoQg90Ww6Agtt/+C7tMObOEhFbRlxRGIVjZkiGhPXtq1hFyxG6q6aPngR4+N76wr38uz08MaDXWLHrMgCrCgjBlHeCMpXMV2bzbars4HUlEb8DOOvwBixFd4HI5TfPHIYQHGRcAVCQ8fVnv84lhWosh2eVcyhzxcJEjyx1WpAoPrfQbLGc9XOiMsoULAe9Bj7JiHHvhu3ImdpmWpKs69uC/Xr2zdkiVLWiiIA+2OODRah0H0shoupjDkRra4b6I12w0FMOD7dxlQ64lpg4WZs/YmwDELokRSXAA888i6moWxGYa48FS+wPLns8Rm07nD+ccXkeGJHxNFmq6I79hFsUcOrwXjuMWut6vJxDkvHWIG5DjX5ct0bxgZai+MvpYZ5BrslzGO+u0U91mub4EZ3v/duJM7S9bI/jP5/Cz4dEvP8OTNgPZKHBotyiBE9D4NTvB7HqZQTgo5Grviku6Br/npveWdogjVdR7iWsE0q5lzjOHX9DNFQAlzlT8fWggzZMIy9+c4/Yha7U9hZoMsOP9gkLCCNY7XcthKmubc3byHO7wnubVc/gZLgAHi8z2blybgvu/Gndx5mieBwIWvVd3080/gPz3k6i2Bdk8cGi3mTHWMFKU4VDiptl98UvLJT9KJRELsjf6wtCiCT4r3koFezHp1DwA1MkxT9k8zj8zWzGYcUZuTSvzlb0jiBuRYszBmciWRHL4ZuzA2PaslJWG2HE1UWd0l4Q6EvAqc5TCxywvh0R1m/oHi318GbzM2GMFIEVQuAhj3fTdufOdpYfcL4MLXnCh1EaUqom9V8ULWs2w+dBzi0Gh2Z6po5Da8IaQmm4RZBPq3Z+aXvvsJvsOp/Zf/7YOB6jfmmWoEJN/CtJjVmh1CCumpEMwsOE6Xxj+C43kiYe5AmLyRlSTCXBjEObghLCLD1+Bzc4c5ZhTYyXuEQ+Cvdc6LlfpW1LYD8W6UJCohfVQEw+q84LUqAH7F4dwscGCL80ZHJA4TzWLIKJ+onN5mu9SHZpAc7ZmIftnpvZ5daerqPX83aEVFF6robJ3/ahVzvhPYWxM1C2NQjlhxa2EE52kbWm4EpvRA08Sxi2JiDj75DoW5MPS2ehunka06JcS54N0jmrqa/+rmDl96c6qL2D/BHZB++nPmV5NhlC+I8M/9pAP1nBcr9bbGvf9N3Lqv874FXd9+/0rl336xEsAFr1XltO+aiJzjpM1DHC09Itt0NIVBzOltjpc0l3/UTyXi9PH9ljMswTV3H7hy7KLKBpkeTWQZgqtmsfxfu2AlHJsoy+XcHXLzSiFHXIT7OcTcX0sdze4NJcaJaiF1saJ6oDvDdJv+5ulKAKc+HQMcK4CIfqPedy8kwJQDnZe26eXCxINlxWL6K4DfvlgJP3Op7Xv/O258l2m57gdZH4xKsG0GgLUQGuMKCVjFx7FT7JAfT/5sinVYwjFzbCVVGujPalhtmHlE7ZgF0ceOrDPPO2aB16yY4fatyNfE5nC9urijEdU0uwvWPOTyBoimmIWnAi0F92VOetJx5TpJ3Lcw9eCVpz5dee+wWvNSpz4du0csoe6ZrkLyV/aWRY/F+Nyo54j3NhlFvfe/407pMg1Z6kOYcWXggNtkEEeLWrXbHHFo5OMKSSaTwsfp0hpu3QHG+Kcr/dNVwhSHrPZKv2QJu86CBrRRAhEdo0JLxb7sLtj8r+J52WIgEWS/r4YubqgvKr0tQfkLKXGCsSKZPqT54oFDHAeNIwqM4rqyNSnS+x56Y5OCJ7CF3YjOUZRAs4a+BY/rJCyLwGu13EocAtsucZjIbshogjANEwYuf3ugaPtTD1o5xDddxTXTXFZ0r4HD2lQIb6X+/ZT9sIKQFWPmRwF+bHiwh6KJCPQO+tP4YfoazWT51HSdoQg8NWPtIU05YmYz3lQc0+shn/hETHsdzL9AsF8zzFcadN9GwmzzWdxZEaZ+O+7ULq5hlMCrZOGjFiSJIBSIw4VAQ0YzBQOPfrG72ElElw/9SAahB42refjevSaQ9pJwtqafs0N2n6oNEHHWY8Nrx8yPPja8bsz8aLZMQq6cZzqnSUC8oMoYZc3FJn7KDDt1nBy0doiGmYVL1eBe11n+JxccVe6/HVW4U56K3TtspWs/e1Ob1DDh2copB64EZ23Grp9Mk0mITgnKKEzStDJ3FIgjGG4GidcDm4BnksmxvZcLshB8of0UntMTiYR3WQq5JpD2bjCDcq4f6nccONci8V5oNNQAyQ8B8Ww5T8m5Q8Lsut1X8S9TKNTANJ//WA/EqIxylyzwPUmCEVxvUXH18M4RkVK6SE3W87GJR7OEL0ooyzP127Gndp0WrHSCbof9Uevu9C33VgSN5lwBrI0PrDQOqVSKmf+n5L0uJZRIjK9FAsDPNj6khIPQEbTiT64li4Vz5MuyoTt/+47sjpXiAAD1oqY82qYrxTELY0Q4ZqHki5xM0WiveoNYg4yNvFykpJyvYCIatzAGYOzCKBEkQYRfvGHFCuquOfCLnzso4AgBfhdHQCh6yJu0PZaIwD3fjv1N1+k5Lb7zX6m8+ZdK/uhYkpBTmvhWhHwackFx5IBoQjmZefAAACAASURBVEIp7LDyfjFH9s0dTxRHx/AjWUZkd9jyzmdlQwFU/viuy8chc5bSI+v1Hb8mMz92ZO2YBdEGOCwCF+Py32PAeS7XQxjME2ceWTtmfpTIa7YxULPAuQUZPDZczWdjGTk23YwTIff5IbeQ3SQiAEEz07QH19+xe3aSLwGCLKCw3LIdUluCNeCXNkFlDr5omA+1hdHMxNEh3yMLwzEhthMbHhTWymPFx+MH4Aec33O6p7Ptuemdr8qH7vztO0URWtlpLzinM4sw9pBaCGCMEab5mGhRKu/HhtcdsyDm0RqhjKC8L9nrU9jRnLXQX8WZcYyLJoAgG8rVlpT49xzyFsL3rMYtinkmwgQ0OVKnBjZ436tPXBzh5OhOqL54/KBBFwgnPkI8Hhes4U8fdCMBv0br+0Q1mpk4Oh5lAHJiq7ZMdDgGGKPxiGCQm9eNmzgxgDfF71r547srS/ZKpQcP4/flAA1EiyGRuTnvg4geUy1tzIJo9ubbcj3MY3l4TMYY7lhdsfNxtZhsELxGaRYGaTgo/HTH04EA7jB8opIuQl8oTe6dvqyyXN21TQDjnJf0VBRW7Mrnv6Lfh4Dfv1oF+didyDSx0WvXlp0XK1AwVXLDmFwvPRpCfYjQL2F9nNd9+p7XbxS/nKCPAQeeti7lDNLullm6IjLkyU17jOuyXNDQpcldGQC4ZmFspsf5l18jaTVdKjDGbXEAeGy4a9leoTUalil5Qy2MIwEIYJOgLj2sEOab1DxSPw/uAFRU2NSDV3r9GkHlZ+CM571TUQCc/UIsHk+kUqkUYgB57Dgiuk0tg64DBc9/termX8idv3+16m+/cM1V0ZJq/9tafAkfgQJx5IZcSsMd92k6LNhddYTiOHTXoviBpwFxABtfu0ekOLjb+9O+2FMkuyr+cbfOVnknOvUZVbd8bSXM1dgKlKHUBOua/djwIClhqPTGRRw1KOTUSOq+WpCpbx4/fnFMRHb4L+b1cSju8CVyDJZTn67UJTBXPD3tGVc0Osw3JyiGPfP5mJjG9q/9vRGoDgOEOzlC/R3GE2jp6C80+7tjO+TACiBHT9mQGO6w8WBvRSqV2unbd4ot6vWr3wCIA/zRe2P7LC/vbHXrJFYVY9tw3wdd19luBFmI6vv48LoxC2KhpofKd/S8qKF7ASEoGnFR99fcWj2P1Yb8MMehJU34jJws3lPzrQVwh2Po6FKAx7uWStcciqkHq0lo7Bz7jYhGNxeIY3GOS9okEokJ201PwrVwURYlpTZzEEEr+zsKiiMHUqmUjDr3SQzXJ/xHY2Dja/cUWbSiaEg8Pn6T2j/c1iMyYQuKOwHpjYPT7fjKN8Y3XeXxEQ5NjJkfsB5X8CWMFJJ33O01p8Xhv8d8GkDge4xc5QnhXLGyqW99U31leuCQWnHqSU9EzfXQtRgYH/TihdOeqbxHsImbhsyCEGHKlrHJZHLC/vKozzjySAf3/TkHQmLtSfxtkh7Ns+8vEEde8PKFs5iPZpO86L7bivt6dLUqOlO3Ttb8rsfjR+BHAMnAxPkMiORbfmD0/KiqUgwE2x2U9WsgsnV0Yee7uYWZZw6vC2vn4WBtyXlMFqhIU9MdA0UWwmA5flH04cPrPLNUTL/GiU9EHzi0zrMzYDatsl5cE2fy84y6Cp3FsUI4/+Wqm3/5ifuE0PxbZ8WWAnHkBjO/iyE/xzKPP0Ns/uGNKlFBq6vzycrhoCMzj3TrRN06ERLjrluTAHBx7xk6ZdP5QjCFdlXMGlHX5CxzIN8q61YXsmE35IaPmR8V6yqOXRgNso2cSFNNCscuij56eJ2ZyCyOx2CB/6i79K5GHrQWKQVdYsqWsRPLpqeo0rM/H3hcuQ09vdlRII58YYqOqZ/urn3g1//s4y4qCD1w5VFXJkrxmo6SVDI5c3gdgOvW1IhkfzIYJKgkwZcg4GhjWsqsEXVHz4sKvhg9P1CZNxEuF4N/f15ZEAAcMz/62PC6sAfnjx8jIrGAyPQj6kxXYmCzBxA0l0he3RWREbKAqIsOyDziugvXfu0wVYkEa+g03ghU50KBFOFO6d9poBXizVEgjnwgl24Dnv3mJ6LVntJvuSILuN6cYGBd+VB/VmbkKDSPqEqk+eJaxSCBL5c0jdgx7oltrSArsvDCrBGrRs+PhhsooSeLG1IE4U0188haT9uoWRCbcWTtMfOjcKt6v+XiKnHgYZ82CJzSanJH0MR693rovovcuWXs6WXTxU4dixyYPmw7bI+JX9+6qdeuw1ZvDk/RfGj+ALCOOLBCzPz6Dz85YLv39PQ2Zmax/miIf7TnpnfWlQ/9vOvQft+9K/ZopSAcorZiHPiak8Mg8Zpr18TNnaPnR4kcvnj8yKyLdDU/GuPIdM5UGC2VEWtPjj8cNuxcjZnD646ZH51hRtbmQR8eyRBgXBBIeWFCen/yH/EvDqK/CtbwXCL4JvN4mv5TPfy19X0c6XR6/fr1PXr0KCoKTWbbNhG16CJlbQFE9LPiZY640GHj7oAO1ykAgJ2+fefTrkMrf3xXZKL5RXtYbelaCw7ZSKVSjx1ZK2ji2ngNgEQCf+o9I9vwagsg1AmRX10f7ZvX/7gx3UYcbejUXnJvexskZ6MP7y8VFELu7/az+zXEO7o9aoWAf2+WrGEW8IznYncc4Iqdc6ubbPNWADUMF6RZmLkVgjiQhThqa2unTJnSs2fPtWvXTpgwoaqqyp/mqaeemjlz5gUXXDBw4MCWLGSbgNPgoSLBjPYfFsoBoN93767srN7qJlWqOJ1tEDPuO3jlMQsrPUSgwjQxen70cTkCIhNcu6YmHse1a+KXZHWFNB3k+dd3AO6aLSjATxM5DaiAUA7WfwKShxfVzSAh9EHGhmznfu7wXyCMb+QtyGQB82I9L9kNEQVZjBSR/nevVOm7OV9uy2B/kV88Tq1jpyALcTz66KM1NTXV1dVLly6dNm3aJZdc4knw1VdfLV26tE+fPi1cwrYC1q2e3ZFgcD7eU1T9qPzxXRHHIRWH4eTQ3zztTZDFmAWxx31zYf/Ue8bo+dFZw+uuUa6QS/rkYJBGrNA3a3jdUfOis0es8h4wcPQ8L0egUX6WAMUaJHL0bB71l/0vuHYxheH7CBPFYdwR8BoEf9sOzN9I/a+NY8/sNp193AHgTCMU3RPIb+7U3373StXf1YjseS9Xim2G6+b3u7Wp8eb5+xmCiWPjxo1r1qwZOnQogMGDB0+dOnXdunU9ezqTZ5j5oYceGjdu3N13392UgrYjmDShm7tHdOTKgV/+7icjuryvz7r4LWcuk58gAmFW/0t6zxDfr/mixtkZRCKzRtSNnh97fHhec2pdrdZI5KcJD0cE8kgzIjjmK2TxC2jxD4xbGBXzaL2eCvdpJncE5Ky8pMYOYmIwTnm68t6DV7IKRReIx+OpVHIiYsIONdUJgH/v76yN7hIX6n9dr855qfKWXzlvS4BBUvlZii2CYOLYsGFDWVmZZVkAiKi8vHzjxo0mcTz//PPRaLRv376tVMytDekJd6wMh0FMmwVuIepfBOyXnZbNWzcY62SG1yQ+LutklZXSqc8ED5cKB4ewYrK4kUyy0CTiZ5DQPjfo4FFzBwA4et4AqLkqHpoIcyI0Dg11uHpmxOcKwSCz2TvyQe30nHuCWp1U4+Qn9dLHYA4IHj3l6UrACUW/bcPYsyum84HuQTQGgDOej7mswODQL0PM+O4onzUQWxqNGVVZu3btK6+8Mnny5GYvTZvFnrwslRnyK14Gt2vDNn0c7h9w8cfpeDxu7hGLgA3v8X73LtZ2naislBgkZsFkIQXPchUOQpyVlyq+uPqLmkQC13yRuNSvQSjgi0cvzB656uh50dmNsDsaklg8sseH142eH9Way2uhhF2IjLEM541K4YUxGuO0I+rGLYxOO6JOc8dx7iD0E59wfXVWRWcAOOnJ6P2H6CfDJz8Z08HpDNy2Yew53acH+MtJK1NvmGkWiNfHGBTovcGGvl+jWRBMHN27d9+yZYtt25ZlMfOmTZsqKir00bfffnvz5s033ngjgK+//vrBBx8cM2bMXntJ/1/HG5FNJpPxeFy0YNeMFUduyKHZ3HkZy3/pj80BKlwjnyGrwASX9plx9PzYrOG1V39RAyAeh3SvKkPkqHlRRVoEwOSIo+aFhmP4L81GAWaPEJ6RfOmGtJoLt/T8YsSj6ZwhCQTThzhYsyBquhKIcOwiJwpGrnsMADhuUfThw+qcfHwGCxDalt22jHw47D7qfydGFs+of2/gmiBNd3A0CMHEUVFR0adPn7fffjsejy9durRnz57CTlm6dOkuu+yy3377JRIJkfLmm28eNWrU7rvv3mol3opgT7OXGyyjORgrLq7Y7bqNOr2zJLfOwf3XZv1K2uBmk9W4yJrGgFAcR82LXp1wXCGpVKoRaiKP4jQqB4IY03f7AUKv5W45roZW43uFrcDYhbEZZiAZY5yx3HHYkIrf8xoo/2ThGQBu3TB2Uvfp2VnQ+3MHWEzZvTH+AmQ93AIINVXGjRs3ZcqUZ555Zv369RMnThQ7Z82aNWrUqKFDh5aWloo9kUikrKyspKSkNQrbBqB9GXoDwB/fMkejXbGe/h/UU2fCvKrhCgQIHyPw4+j5eoUIXLrTDH3aVai56vM4gP/daWaeWSlp4kIw4+Vfj9VcFa9FRk5v74EYfhLvi2Fm8TZsDdcr6dQvVbNAxomZPo5AT4HUCAYRiL3ecFL3tl6L4Jb1Yyd1n+5cKECegIju2H8lfLm54HfcIvjdLib6dVtPQCvEmyMLccRisauvvnrDhg0VFRU6AOzyyy/3JPPvEehg1oqA9IaqjdtXDhK7r0181KWEuhRT5xLaIyX9o0KUEcEipz1I0skaOYY8hMbjw2vFKIkn5VHzog6nMDN49kgpK46aa1ofpPniqs+PERtBDMKBZOEqFLmi1xo6YW3UvOjsEXVZyOfooJfCaG8IA6PnDXhs+CqzHbnMCoSvBmo0v0B3pN/QMAvmSkMA6Jb1NZN6TA8zOXIYJgGiw3stz5n+xJ9u7tGU6K8GtdlsztFIJNKrV6/GFUJ4OvR24zJpUxDLlD/zzU/0njNjy40IdNfACtQbEiwCKeLQkaOeH5ZZHpLJgi8fvE8LClFdZo9wvSPWJIswkXLZTjNFHbxSMchlO80EQIQ5I1eNnDNg7qhVwU/EyTn78bxAREfPi/ojwTxDOQyMnhf1tknSDiZHtnjpw9dWPY4GT5fuPcffUE2iYdyyvubcHtPha8z+9u1v2Nk5xXHobAUfaChacJJbx+ALAVHJXv9x8AFd3+tcQl2KqUsJnKhzuLSDWTNWd9qLiHbPLLW0DoAjW/Tn/mErx8yPzQoL5XC3TDX8wUfNi87Wq+9QQFqzEc4eUXvUvNjsEbU6iesfwmU7S8Vx5WfHxOO48rM4AKLgtUL0qY2oyqPmShEhRjdHzR0gNNqckauQ05jX11VdtNwvLYtg+hADE543p+gu3uQOyIEPNrM1L+dq1eq7KQJcNo7/FLUVMH7sVhMAmHDOi1W37fuJmcOklytv+dUnvjNaGy1CHB1vYAUAM+9T8p6OFtcqw3Zzhwe71i8tjuADa8hPrWVgFFmA4A0mD3lkcVuYA6VEcvhDjJiovcE6JUi1ulkjCJftPHPU3OickXUArsQxV36WEDsDT8lZd0fOGeCZET9npMOPo+ZG54xaBcZR6h7Nq2TJOUDVCzLw0ccxC2LS8eFtro4UceWmRGJO7SC446QnoolE4rweMwwvhqQb86s+hYgmPhubcmBtwOvjAg0Wr7yi814JmP8ROJG65VCYVp8vXFPUPMOxRkwHgKk1nUUjYWaLYBH91Fr2Dg/Zp2TZK98PHtH1fZmV5+Nu5KONpf20XA9r7aH7vaMP7pS5TAwCUqnU3JF1AK74TBoyl+/sdYXobJhZqIlRc6PCAGPmeTktHYAJs0fWjZozQIiOwAIGUGDQBBM3ffhEvsEdnvmsevu4RbFHDq8N9DjAxx4ECNaAu9X7Y8zdJXfom30roXvstUnuVyUw8y37rjQLITb3bVXeKBBH3hiCpW/WD/l18Xssfj+nwWvukFWlPmP0XgSLYBH+p2jZaz/8BOCSCJUWobQIxRFELJDiHSIavSCqG4sODz86qCtGsJrwwjCPyXsKuTbZu897Oc0XmkGSyaT5Ug9xQcEyI+dGc3pGTFDAVkD3HnCiYaCxb79gBvaxiOCOGUfWjV0Ym35ErXaPuPwdcOXsUQQaf19Xk0qlcIjj7zAJ57RnvYygb+z05yr1/LQ7D3BFlENKWjDw2xerbt33Exja5NyXqzzuGAJ+dcum7Qce0joT6gUKxJEvnN/c8IP6BQiA+oxzlmVwx4Hbvf/sN3vO/HL3s6pWlBaR+OiVB4nwuH4NoruVZFcG2X2TphETuEgfwb8vGCPnCudlUiTXsTyX950pns6IOQMMgZ5HjgGlBUydoOG3EdS2iHB9fHgd+RIaTlP3WYFvmdaN3iNjyCQF5+tJT8bi8bh4tfDJT8YUvejiEoC7D1zpKRIzJj5XCThkAX9JfM+EfYf8KRu3WHyjUSCOBoLldBV4uEPJEE8MmKAMIhRH0LmEiOi0Acv/vXJ33Tncuu/KTkXoXEwn6lX5m+PXD8nDu5x6YLKRc6NzR9aNmDNAVMSRcweIhHNH1bnTS5r783+kBkkkAKxqdJkDSxVAImpHYPfqoQ/PdDAPd3hzI8fZdNwix1T0t0kiPHhI7c3r4g8cUnvSk7EHDqnVnb3mAWZk2PXIGZj4XOWUA1ZOfK4y0Ery35cpIvyqyhcT1HjF0VCnZIE4Ggav1oDzVyiLiAUAVx1cQkTV1dWCOEqLSAR6AOhcTH/8yQqL0KmYOhWTCJXgcDkQ1o3MHlF39LzobMPRqE9x/ev6RkHHAEDThAisHzFnwLyjVgEYOSea00nx574zAQyfPWD+UasEicTjIHgL5offLvAjWHb4nIjeNS/ch1zeBzcZ1bjjx0T6YxfFHj281vUT+3wKN6+tOb/njOwtldRVGAE36VU6WbMyiuzPQqJ1lvARaCni6GADKwPT7y4r2otNI1UJSCJECBGiiCU/MKwVIpQWUedi6lxCnUsIQOcSKi0mixz/iMjL85M73VR4NDr79mTfNL8Ju0PvnzdqFRRxjZgTnTeqTu2vM7/mhCCREXOif8Yx5p6wWxD/BMdoBaUXwz2B7U1GrBuWv27zYyQ7sOdxMPPMI73hZ2MXxqYdXsuKjAKf89/WSteGY5lJ5vL+iIGmR8CuoCfgdBuuBMEapHXWKNYoKI4GQpm7Qly4PoSIhWMWxoBUfYbj8TgzdyqmzsXoIkM/CECXYupU5JIRgj6mH1F39Hy5KLlZtwIVh3+XnypGznXFbonxjpFzo6L9zHVLlaZbx55yar7QhkwWBpGc5c4iuwzxuCrNEWvTsmD58so6/dXMv2ZBDL6QipzLc/1tbc3ve804AbGgBu8SNBwWrxGUrT+zs1+s+ue+n7DKCobU9eewenMPz2zsFkWBOPLCw+/Um7+KXGDSSPC7V+WY2eyRtf1SiFhIpVK/+2VJxKIuJVJudC4GgM4lVFJEljrRX0tzNmHyJfKyhmqHo+Y6sZjOeId/yLMhrBGYlt3tzdQpfgaBIUxEGnHm3FF1TqCq94VwDnT8mAl/gKk+zVxazbOcp7lXn0FGOscCUnsEa+hTT3wy9qB685tfoXi9Ev5yB3hf1H6Cf21RKHoNVB2pVOsNyRaIo1FggHFH7SC94x+/+qRLCXUttcgiAIu2DAFSPbtZdhqlxehcLF+8AqBTMRVHYBnNgg3XSV6sobfdnfzIucZEFTAUWWTLKj/KyKdUXr3gW2XgCkNxXK5cIcLDapoVOseRc6JQfGROhzfjx0RyHVlvtlgEvScJetEu/w2oRsoqvbfNEv72tYs1yHV2NgTaO35+8Wx4X7kQcplf3dKqE+oFCsSRL4gQjyx7+fsh+F7uOb1yedcS6lpqdSklEJFFZMnaNLrHshTQszzCabbT3KVEujkAdCpyE4eAYI0gg8GcqmD8I3HUPMf5P1d5IkSSkXMGhN6LL5+ABL4CBB/Ocn54sit2Ef5UxxUixjWJSPPFvKN8rMcYOTfqb3KzR9YdNTc6e0Sdt4cniJFahHDHzCNrzbhSsDOPNovfIdw6cXte/HrDtJNCVi3zX8PDJt6wFHmnrfRWBI0CceQFYack04OJcEj5e4IsiIgsggUikCViNiCMkOIIAehZbnEaXM+w0bmEOhcTgNJiFEfIVBz5QLOGyRQA5jhzVbxsEJZxGGuENfMGvKIxjzTDZ7sMjWQyOf+oVQACnanB3oGAWSdqK/ytCPByhzcHVluO3FAniH//+nXNBdvPAFyuXM8MNM0b4RKDQ5+m+3LeMgMAJr1cBfCkl12xpPE4Vm9uVdZAgTjyRCqVOiVeUlqEVGYIABCIAAuCNYwNgkUb/tar++/XQiiOeuY0cz0ihC4lBObSIioxiUNXDN/AisbRxgscZxvvlCcVc/H/7X15nBXVmfbz1r23u5EgICSRSHff22DiRmTsiwsuCIisytps7oTFdZzkM+MkTiaTGZNMkpnMZGJiFI0oyg4NyCaLKCoudOsvZHWh+3a3JqhAQ0wmKt31fn+cU6dOnaq63U3T2+16ftBdderUqVPVdZ56t/MetavDEHQRvBNY4DmwaUr1xPLk5qmZsPrBo5TI4AiBTZocMUk1y65PVzEIspBI2Oc6cOx5vS1u/2RKN/aeqhk4nF1mlzWM1qXFwVMiagS0/JVnB4mQMP9dLNztiTGVt8x8+x7PtJQHLn/nzhcG/9SZ5CbOvfQn7ZfcXKFtZ8fmkkfWAbPShAkgwCKyiIhgEVkgS3oo3vhBPyFucAPzceYGFMTAATYOctvVoCfgWT/JXK7NHOohk9w8NUNqBBc3n1y0QxPLk3DtEdjs1zW80C18BIBBRDpZ6B6ZgFvWLJqqG/74cQQZESA6Cta1w7B7/M8Py+5xWEPXG02m9t6XUlhu3uH+KUUQOjPP90ajLx55gJ2TBZ0xcNvzg39+xTvsFMrj4SFh7YlI4mgRSA/kcN8hAixXW4EFeMUNwR1lG5IbJmcSMUrEECNApA5k2MxsY8L6JICpm0qczBoySc9kkX5C74S+TWLUZR3+2kHl7wg4IdtVzOoTHWlCTbggwhZNKpkYJG6YFzQmoZIm3TAQ7JGp1EUD+NwOun3BeFC6+VnJB6YfxJEglCzwow9c1kDIWL1uWyqLfWrJVdLtcsvOksdGV7EjeuhMEdayH2EBge0Z/YWIOJoP9m8ZL6wFkiZSAnDaqdLAYR/n0YsLheVv8oYkgOdm1xLAzKNWFcN5p7dMzdiMazbITL+Bb0egZuwvPBEpw/sJ9VfQiIAB8ksTBlNsnlI9cX2qKaFDivXBSofqBmsMghn/+m4pxAQZVc2ririiR7gnw5VBvKk6Ak2PKgG6N/ac5z5TAmDuNpnZWEGca9tss9SSSHlJmi0k3Pb84AdHvBPgGNJIEKF/4TZHRBwtgzMj3klQDC+POPYOAAV51Mg8/CcDAd5+Y23jJzx+ZfHmaTX5cYxcmRQv6HOzahoZtg2b2badS7gXk1c0y32dyroVVM93wDiks4AwBWwJtHE4r7NBoe52eKcDT+HAL6rTvUnrU09PDogK+fbANeJSpujhsA/rJd6hyMxC7ZmxqUR0ePom13GTTqcrKipWTqiGz6TCwJytqeXjqzUjVdAT0K8uXcveQyEJTYNbQKghrJ3R5sSRO2YOhqN7eshCrdJk4MLvDSCiF+58t+ETbvhEvkxCs9gzp4YItg3bBqlX3oi8dl6v0HVVfMMyC8Fkpwy/WmFIChPKk6GURAAwsTy1ZWoTFo3mdIm0nyE2V/mxNUwhpaX4znulYu5/lrE37ekUfGNv+qYUgLVizc1NJSLMlIH/OFj2j59bzRNkE4Y5lhTHOa2HChMn1RSh1nYQNzH8J8f6nzmmqNfh9ow3RzsQR86YSKUFu+A3O46dN+Vzv5MGUu0Yw0ntwzj+yOcufpBe+X/vCcqwIJdBsCwpnQuhlbR3zjOQtJ3gdVV8MkIYawSOz4nrPVm5jDEveEQ/ceu0zPh1ya3TMkGNtQoycQY055IRtxLgD/EYCwH868A1DFy7IfUduLlC4IyxKVo0ugow1alj2qbU2knVAE3flFo7SS4i/x8Hy/7p86tZrxkUnK6bVBBCER61KOyQIS75pBLVfiBqP+oXcqSt0LbEkTOsIaBZtiVviDdeUoYNZr52WdJRWpTZFDYwdmXRMzNrxMdCsIY04AlBw9k2bXrwvuMAvIKGmP++SYRph7PGpA0p5w4I8FgxA+tTUGuBNXGiX9Px65Jbp1UblwuWMvxXEbYCxjUbkvrsEyfmmlWukH85Y41iJWNkhs2mBeH7fyr7xumr/enF/NyBoLEdwB1BycpCLh+A7HzUSpzYCI1sHC2B5w/FzMQ2bMZ9Lw1WzoUNszOn5FPPAis/Qen/Grj3zncdaYJkxnO1T1Crd5AwnrD5Nst6Gow9hHzHJq5PEim+wCYRVOrIKUZchnYtY99sNhAUcnTr1Orx5amtLVFhCNg6LTOhPLV5arUxLCaWJ4lk/JiSSjZPyaha3pkvGTCu2ZD8N7iLP/i/6kEZ0XxWkCDugNGUjzts34m37Br02GgZxPHL0Qfm7ZIxHf7xHyyGZKnXEYiIo8UQ6yQw41G5rgr+/eK3exbI2HPbJmawWKMNLMQNknoKKQ2FHHuHpBJNEHUsHoGX9uyJX2IUXaNN/WLmzVMykzakNqkgdG9zQbYUuTVBs1ZklTlOAgKVkQnlKQAT1un5QQBgy9SMctOY/fdZH5RZSE/drir8s7OCTJAdFt/9U9k3xWq7GkH4x7BfVWSznu/ErMgujIQJHR2FiDiai99ZX/477N/7yRBmfvrwOQDdkvp9z3zqbKEfBgAAIABJREFUmW8xk23DtpltONvyz02a/UIZOCAiL4iVAKIUls1TMpM2lGy4psrfAf9bfu3GlCi/ZmNAaIZhwzdbC91p9uvoHzrNqaaKiQCML5d8pzydW6ZW++0puhEE/lEUZPExBvy3zlijzlFrUP2zbw2q7/5pxn0D1iB8NrxrgPElpg/QWbSO+gNJPRve0kXPDX5oxDuq4DYnflQItne+oIeTVqLdgzgQEUeL8Ib95Uvyfr33k/Mm9v3dKfnENjELTyqxDRbRXDaLcmJU3FqXfmDg3gXvjnii6Pnra+AMY8kbkjWIiCV9+L5jk5+WJCJOvGZDStjUxVsiBIpA1hAIZI0AxSaw3GyKwhrMfroqH7fOXG9pfHlKmjmaeufJdwHPMAYAbJpSPWm9m3NIKV+eifQMAN/6whpRcv8fnXxlVM2M0tLS+wasUecFmJd0ziIgyxJO4g/thK47xtGgFn05jQUWPT9YccGDI5wYc8YdL8gkHQKXtG9yc4WIOJqLsxv3FyTgiMaKJsA22GabydmWVGLbIq5c2DHYIufD6FCGR1WRqy77mAOYrM1qe3qykETMWSjm91YUBio2QUVNUQYAbJtWPXZt8pnpmax1XQiaANjZwDPTq40K26Y5eodXaVGOJN8oYwpJ8+XpLZvyCHwzVkX7SuIQDFJZWYlJnhNFRGxg7hyRXnD21pIV46pM7vCx1c07BxHh5p2DdDV0nsMXMopUW9J84XODHrryHT0Vttu61odL/qcDJtQLRO7Y5mLpG5/OH5an/rQAhC1ThI2zzWzDZrJZUgmzfIuFVGFZgBrMfllD0QcAL1lsvNZQW0zWMCYv+GkgWMQIn94S1k4Yxq5NEmHcOlfpgEMTih38CHa7EgBsnVY9fl1q61RP4nJlfDFUAC/nuLfm92L4zRCq/crKSjEBOlAo8JMR+R77rK0p31mkbvOJMQdu2jloyVUH4HTs5p0lj11VhayhX57LeW9Wv0qHhIRFEkeLMbLnb7cePW/6534n5A5JH7aiD7IdYSSmrehlkTOlhJRE4JE1xqxOqksoG8dk7yR6z2B3ZA1lBw2T5/3726Zlxq1LbvPFZUhKyUoZBIz1csT26Zmx61LPBBHEM9Oqr16b3N48OcWkAK90YNb0zXkNFLu8LTlMQcEnyryNko7NSxJj5tYSOOYYIszakiLC7G0lAFaM9/C7zWBmW5lXw6c+G/flfJk0istKKq1kjRP+qEfE0TKwfA+YnRxX7LxkbMvgcbYhzBxgVC58t/Shga/Mq3XHpDP6L1lSpLe8c2am0Wbbxri1SajKGgzWMMcJ4GMVfw23PECRCeELZZtQYkUgRwRdVQnW5H/1zRR4vtOkZCEQ5FnIQh8MTFqf2jy1OnBY+U/Uh5+evlQ/RESrxrtayaytJSsnVM/akhIB6Qi4F1d8uXFHyRNjnAyDhnDkM8HA99fx37tC8alHALRz2Cgi4mgxXDMXoAWbK0VUN3MgxhB6iiNlDHukELIBemVerW2jsZGFR6bRhpoCFT5dI9iooRc1SRkBJ3mPKaVDQNGEK1YEt9WUoOIFM8uZP6okiyPDq9ubdRwWUDPrhJKgn+I/cYqWkFX0XVCGFl3KjbbTAXW5rDmEAm6AQQ4RGBJEFt5s/tz5mj+fhiCiaWtExNECaN8nJysHM+Qy1FJnEQKIMHOoL+aFj0q+qFhQpya7SCVc/4sTCNgyNTOh3LMiAXm3/LKG316Qpb7nIGGsI+DIQgoXKMwG5e8mlRGjAwyMXZvcPiPjOcahVpcAQSMLfbhFsrVrnCg4twPM0DItMjBlYxKQq3mrxskc6U6pzh3e4PDsg9y4BX3X2/NgcSxL4+1v5sh94rj2rPjGPzScxAbVl9KRNZhBcILQ1cblTxSrU4jotXm1DCe+wyEa56gmUZBfQ3F/hGn76oMWdJoJFToxrjzFzMpRIiqP9YobOklsn149Zk1yx4xMOBc1C6T9ZKPUwTPTMmM1w6orGfnsmgoTnPtSc/YmrU8x86Yp1bKaIn5ff/x+E+iKkrd37P1DuJ3SuINc9gk4Gni+qrlg96CHr3zHU6TdeHeZHdvhSMROfpvsaCaOrCHiNnDrLtchv/u6GpHW/MJfFhKRrYWTM2ttyJeGQGZacA+yzmoTIvoWNaWVMEGL9R5fnnJeZgDYNrUa5Po7WqL1UHBxVuyYUZNFJPEMSN8BI7ybnME83mA3AIDwuajgsfHrklumZlgnhXAdYePkzL+9lzYOEOS6fNA/CQwAM7eU6PaObEpH1jrBmpevgqcd58OifLHtH/2F9iGOjvXIJmK0YFhi8b7jJ6U11jbUyP/+/i+Jwp9d+Y5YReWUPGpspIZGWBYJh5ltS6MIfG+hm5mKTF+A5zd8hwJrEMavSwI8bl1SFGybpoWHOVvbplWP87tCQuUUvzTTvMNslklLUNCLHnAeSVOxiJhUISHbREiIt40sQ8f47KtrZTGXyBISsqRepsmGXpYxtBpdXNCLmqnOhEE8gTteGCxiRgH0P3OMvgBVK9puAXJf4siLIWEuRnASsOHQuWr76+e9Kfii0aYGG402GmyIDcfYSbYys2lxPg59eCwU5Ki4LnyysfYLBIwvTxJhfHlSlOjeVj9lIJAanEt43zzzbLdjwfJPQLPGhl5gvONj1hR7C1iFnI1dm/THg7B39Js90nqqxC1XTWiSPrIOQHbIftX4qplbS1aOrwq4I5+00HzKEDVVBmMVrCFMHyJ49GItZrT/mWOKTz1S8+fT2o1Bcp84EhZebRjyrZH5/777k1Y29Sv+Mo4Dx4WfjWee/nvJF41oaIT/Z0MjCDLthUrw5QgdrMQNySYyPJmE2cQN7AlhDT37ztap1RPWp/S4DA/1ZKUMnaIcEwac4WNUxY4ZGa3OiYOIrlpTrPeRmXfMqNHrjFlTvH16RvvOm/NHTEsEA8C2aRl9Sq4xVsPo49qNKWP5xLDwcCk1hHgxAlUPXdsycPPOEjlD2vso5u8eBJHB2BBRnXUhA1sDoAJJjWcbWLk1ekCOE8d15yfeTJw/qsd+sdBJKzGU9osl5nsksPXoeURotLmhEQ2N1BDCHTHHcilUFehCh1dbcUqYpGNFZtlQ/Z60wTPXQzodHZjxo96tUIEgwIxBxn7AWc0o8YLHrEnqAREAdpbVhFcHAztm1IxZU7xjRo0cOyGLsLm8oXHBeCfMlDlgNHvoQz7/LN9nj5ZD8AiJWe5cXeWGHYOY+YbtJR4yJ9yyy4kldW5ZdHj+7kGLRzrZRnWFR+uj0V0hbugleii6Mc/4pCDHiSMRAzMnYpSwmq7cJCxncWmLCJCrTBPQaKOxkQO5w7YA4NnZmSuXJ5+dlRHt+FiD2Usl8gUjwOELANL2GWSGCLKMZDFYyPrbp1dfvTa13ZlCQvpnKoBQQmG8kVetSRoVds7IjF5dvEtjitGri7PJ7dpqCeLS2jh1RPEQBmHtDgyrRKAZUuYl1dxS2c2Z8pDXXUpA2ZaUOqQERrVSxJNXV6mWxb3ctHPQktEHsgzlFplCsq8a+8Jdp17+0z83u7FmIQ7Atm0ij2xrlNi2bVmtHXmLFi0C0M4m0rwYYCNhIRGjh6YULFr/cdPnhMMiihGJtekBsUg9CSoBXPVEMoiNBlsmdBF6is2a2MpB2ormUyTCpPVJIjkFVrcseDQXZ0fYNZ4R2krI8A9SP3x1s5tCgmmCHbJgZuwqywSPVE+3zb4EGkvNj6Smlbg2GfMkaDYNrTTEKum0wnBWt/LLI2qTgGmbUoIOyrak1FXKtqRWT5BOX/0DIGST67cP8l97yVUHbt7ppvZRmL970CMjDxjkFdBzBoBDb+8Qe3vv7q09CNb+Ay0hoOYjDuCee+7Jy8v7/ve/L/6cL7zwwpNPPjl79uyRI0euWrXq9ddfr6+vv/fee0tKSppqLRQd5VhJxIiY8mLIi6H12ooIALUsihGYOWZRjBzusChmgYEGmxuFfdSRO+DoKbYzdUH/8jC7gRVQqbqASRtSm6dkJq5Pohms4SkPYo2mKUMMON9K0QauWpMkwujVxXAG/66yzOjVyV1lmYDaevdIjXSMXl3srx9IIuLj5Z+upusnDlPowyNUv/In7wrD5I0pTbcCnFQGIpXxjM0lqyfIySllW0pWT6yGL4LD3xW9AvlKmgN1swBevrv3HS8MeuDyA95bMh5FW0GqKqeeeuof/vCHs88+G8DLL79cXFwsytPp9NixY3/0ox+1fU9OPtLpNPOQCaf+OhFDIoa8GDbccMrkpf93wg1aBIsQI1gWQUoc+j+KEywi2/ZoK4Bc+kDZR8EYp5HF5imeyQ5G0ooTYI0sioz/aBY7iF/pEAN+1KriZ2dKvSOUNbxwKUmqBs7LHfSOu7QgXQlueRb9RDUpPM2qtp9xdPqYtD4JIJ1OC2n/WieR2sZrq1kKic5caOesGZtL1kysChB1fPeiysw+hNx18IA3D2TTGsMPnWRI4hg+fPjevXvPPvvs999/n5lPP/10Ud4aKaPDIf7in8mnggSEmePffnf25FY0SORwh4Wbiv7waOasO898U4obJOkjbiFmEZFr+ABIiBpj1yZd0+bkamWVcwlFXqUJ1jDEhzBmCa2p9gLIiHSy2GVEhbcExtv+7MwanW70bns/lh7sKqu5ak1yx4yM3wscNJRkDIb/Yy5KJpQnddlBQC55/W5arXGnM1oWWSBM8TFNJBR6QhZrpdH5APZpBu7ee6b4CP3P8Ldbcl6zIInj3HPP3bFjx8cff/zyyy9fcskl77wT6u/pWiCigX1jBQn0iONbvzqrla1Z5AodQu+JWXCsHu7PuIU4STuIyNklIrI2aZMjGu0QncIZIZsmV0/akGKwyRpZ1RPvvXt39U0CAVetSTKzzhTM/KwwYTZFFrpQEFa3mYRj3IVfEhmzpnjHjEy4ucMopbFrk8w8dm2SAGjpKkRud7+xYNIGjy/W0aia7q3w8ayeUFW2pWTVhKrsIzuQC7Kh+TwRKLyxK7re/dLgCy4wT2ql6UASh2VZpaWlr732WmVl5Te/+c3cIA7x1P777bPFq/PTi98i5pdv63nJg389sQYtgmVJS0fMAjmGUqWqKB65xUnutH5S9dTNJWJB+Ws2pjao5R2DdQrPIHLnbroVoFdQW2J7+/SMCO4OkDsAAGPWSjlcPBChYly1JrlzRkZUG7W6OGy4t0zsCBrWZlRb9lN1Egm/+NVrk4Zmp661bVo1a64rf9fglQgCNDjjRH9kR/axTQBj7raSZWODvSctmtKqLqV4UPy684VB/qAvUfK/l76tqrWJV0Vg+PDhP/zhD88555wePXqc3Gt0CEqdj8gDl70Dd71GBM0Uay6EuKEUFgBxTdD4x1fdFLJLRh+IxyhuocEmuO+ulwW8jQdGbOnf8wBXaZCuoV9jzJqk7hfcWWZySkC3QroXclpAVc/I1HYCI02yf1NJqzXGGzAmEDgF5uq1SegSPrkGaX/7ermQ8vR5yWEn+NUHoynt6qR2XeohKKeaq9GEP4tFz7vJiiHjzWXBA5cfEAqafnY7GEhd4jj99NOnTp06aFBA3tSTgnZ2rFRWVopVeRptEXLORAA3FUucFZZcUpoEcTDzj373JTh/zv+8+J1EDEbMSPBHxR8M6hclyJMVLmCQBqb2Zh7jWFKuXpvaOaNaq0xGZf9OE0KBw1PPzaq5cmXxc7NqApoKOAMAGNg9q2bUquSzMzNh3dD/MKNXq4AxJqKrVhfLgDEOqOzH9umZq9emhNAhLuNeKCwJoDaY/XfhjnfyXrwphULMnQ48g7Qd8VtkLZ6/2xyDD1/5Djuxxbc+P+iBy94RnbjrxcHyItm60CbwBIBdfvnlxuHly5e//vrrf/nLXx544IFEIvGDH/ygHfvWWlzV6zc7PzrvH14+84FL345ZBDH7vRUSx+6/njcp/7eWhSfePUe8Yd8c8mYiRoIvYkIeCSELUtJBMGvoErojqHsEFVHJFd5VI1drCTWIaPv0agLGrE3tEJFdPhuo90pu4chVxbu9o9q4UGsgGgkIuGSMWlXsf2TPlmXUYBi9OrmrrMZgUGP8ehEg2rilTnRZMEP4qYAAbexrf0a9xHOi7kIOxA3bS8Tf9OadHo5g5l+OFolIXSki7C7venHwTy97J/hw2xNJHMCPf/xjo3TevHliY86cOXPmzGnzXrQN/nZcPH3+tIFPyZMjNyCJXUuw6ci5AOYV//6UPHrg7bNilpQ+1NjXX+wmhxwZ/91SELB1amaCmJDiHSVj1ykFBADtmF7t0U28F8jOGgQ8W5YZtTr5rO5SPVGyCDzL83knGrmyWP0UhSqg1rQpBJQ143pwQ29jFjGj0XY5R2cU/yLSukMEGi/oG9M2layb5PPFhmDOMyUAX/fMINkvwSZES68+AMaNIn2xFtczz1gnIas4oySyJrtx+U//fNLnvOVyyLkIvgLwSSPiDdwjQU6Q5omg7Lw4558/4/O/OyWPEjGKW/jmkDf//Vdf+s7fveWpR8ZvGEfdD5Q2iLMrIGqCvMB2b+od/Yo7Z2SEl2TnjGoyG3Z/BetPTVkv/R0LLNeLrlyZNI8QBcg1hufSLQr4nrcIhqYQyB3GFBLtuOhF0IKxemsEADM2p5wWXGlq+biqOco4qhFEi24kO3u0pKWTiZwmDluk+MOnDZywKG5xfgwnrKpUFwwFcyJGcYviFsVjFLeImfNinhnc0LfUkCYA2HhN1bUbS56+1l1gKQtrjJdBBxhXntw2LUO+Cn7WcK7lCiPZa+oIVq+CaorS52fXXLkyyczPz65RR/w08ZxXmrhylVkh8FqmXSd7f7zw66IEczkFnTsmlqc2T6n+l7pSeYh9sge7LYiWpz6dIu+iBERYM7EajlVSuXIYXguop1WzM+qVUcuy+ClD0ZzcaAZvBD601lsbc5k4Gm35lD9pQNziuEUJC3ELv/7aqUN+3DLvVDqdLrX2VzQOyYshHkNcBGvEACARJwvS1aKQ/RUPVmcIE9enlAdk29QMQOPKi13WMD7ygUTgpS6/+hNyOLB7YfsSoqs6WTyvaMKo6TTy3MzMiJVZp7f5LjhyVXJXWWbUKs8cuezniiEnMgA8M10Gg0Mzi/uHsYKYl7x5SgZaFKnBESKbsZvPDQBjxhY3CF1hzrbUinHVXhYK7XOzoPliTrCFk4RcJo4GW4qHnzZyooESFsctils4sbQ+PfMJ/4eCBMVjQtxA3AIRJWKwiEhz1uoIHtXk/p+wPqk+X1uN1Z6Jde3B444N0jiCL90Mytg9MzNyVTK0twABI3zSBMDMvEeTOMLgyPzBZNfkGy8/xWH85W3iqjUyBN75gGvLDwRzh/yt8psQyRnJwi/raBYi3yOmbirxtxYgHMmj5PYgC11lgRJ5nGbJ0KYCdShSDhf876VtEpPVrsTRzh7ZhkamGKAkjgaKW5ywaNGLX6xoSTvpdHpYfP+ev3355qLf9cizBPsIVQVAXozIsY9aBHKctQZUwSQt6TYRbZlSjaze2XHlqW1Tq7Ozhq6kCzNHKGtk4TVvkaF3+KWJK1YU+8/OAiULGFcl76tvCuccsCym0ayo4Df/+dWE8eVJOKmVVJ0J61OlpdjsZGyduD61SQSeewe8VFjC9Q7/Ib04UD3Rccuzg345ypwsa1bmgK3Amip+5+9fGgy8HnTBViHXJY4Ypnz2dz99+9yvfekPCYu/9dpZzEwU+IcLRjqdPo9/9Zn8GBrQM9/qkRCyBiWUqiIkDg93mNKHEnqJxAvqCfYKYw1D0dCP+sUQcy+roBE2EkesLFYvXJjeofDC7JrLVxQ3R68J0xECTyF4ox6cIe6KLSGQ82Q9agWJ0FKxDUCuVqu1Mm5dcsvU6m/Vlnr6pkiO3T3/zWVXPci77a9peDp077v/FLGrSu588cwHLntb7N710pn+ln962duq+ctOPm/kNHGs2H88nU5vOHQumP/rD18iovuHvvmZfFz+87+0qJ3P5FmfySf8FZ/JI0kcUlWhR0a+M3/34KVjDii+IHJNHtM2pRgggsjyIN7sSRtKNqvYxOawhvYKIsAp49ujgPkjfmfBiJXFziFpTA3UO/zk5W22WZ5bI1j7ypVJPyt5xpCPSnbPqhm5snj3zJowHWf06iQcs4s++2bHjIybJymkP/qF/LIDSWslMXjyxtT6a6ugr3Lgb8dPMyEEs3RM1Q07Sh6/yrWMhDGRwKLnZXT5nS8OBnDni5IvfnqpO4ctTBQ66chl4nBBtCj5+8/k0/FGNNhUeXcvy7JsY1JqEOaen0Di/M/kU898ApCfQI88ad2QCouhrRCmb3bnE2+4tgrA5KdLPK+7J8uD00Htlyoeuy65fXpm7LoksrKGf5E3s2UCgJHSoyG/hXtmZ4ybVVaM7GSho/nRAWKsXrGieM/smkAdJ/BS7KgqpKX5HLW6mH1ZP9XUfn0OLjNGry7e4czEgc4LXnuH/OVoRVnUijCuUIf0Cv7n41FavOX6HX1l92D9qPgSPDTigM24/YXBD1z2zp0vDn7gMmcqSvgfoe24owOIo0My+hxv5EYbtrPqWpNvfNl58bwYvRn/MgH5CRJzYW0bpyQobiEWk7NU4hYAzNomyYKZfYvLB8/RCGINU4kW6ememVY9dl1qu5bjW7N3BPIHABrlhmyLU+g5J3oi0MooWEPnLx1hBNKceWv6WBWhIm7ASFMRDVI4WiGjxUatTgJ4dmYm8DTHfOjvkWshDZQpPNdz1pGUU5kdNmEybTFZdJCwC/mts0R0007X2qrmRj46SoaEiuoi3tx2r2QqVcG7bSlydABxdEg2MJafL4+iGIaZ58Xz4tQjQcMTv+mRoM3156EeABoZp+RJvpj7jJt7dr2zuHzQO+sMVO1noEQAd0YYwz+8HV5wQ9c1QUNsjVylvuRMRAFzScJWdQrab5IRLl+RfGF2Rvw0T+PgAsFle2ZnrliR3DM74+/P5cuL4R38QjJixghtdgyCsniQdgnjFoL5gjBubXLbtMw/1864v2iNp0JQ8IXiSdOfEvI+zdqqLdpEIJbr2nvP4CfGyDjUm3cNemzUAUUX2d9Sz5ePzAeun3uZL2z0pIy+9iaODmANZhA1sjtFtkn5WrBGQYJ65FGPBM3o+dseCVr63jnf//UX4bzW6yZVCVKYuqlEybUcPN48M8zMaDGveoJAYcRsTv4Y7c3QtXtmRjLI6mTA6f7gsaALNMkXnso+HlStGO+++sCqkitWJPV0vuKP8sKcGr0ZwSPi/Odm1YxclVRRp6ohPbn5qNWyAmuVHPmtibFoVNPnm7BSMby19SbXTKzS8wnO3FoCrygKYPm4Kj2/LDNu3GnOZwtThQyxohk+WfcJtAW6gY2DCOBGG43MNixmasK/BykWip82s80yhdfXz3nrywPjPRJE8IUYIsDy7h+o5kZW1nBnbTp1VEINAX2CiV/LyEZGQQ/ALz5IPwWCdPLgR6h/zj1D+vIVxeKqDl/AI6e4FYMu1NSAh2s40K4OwMkhtn16hsDKuGAIIAG9D74nd08v061aZVvktrtQkwoDYfcF8RtBbt7lJD0PUoh0OKdQlmptqaNIdAPiAMac+ttlfzxvUer3ts02qEmjKDs/mZmZbKlecqPNf/mYeyakBCFG4PpJVVM2layfpAeSA6FcT1umVE9Yn9o6pbpJWUP4LMY4acSJaOeMavmN91/IKRm5KinMGVeKjfAo9cBO+hkhjGgAEOilOTWXLk++NKcG2qi8bHnSqCloQhHT5SvMCuEX0QarLmj4q3g76ldPxHFz3mrWj4hOE6Li5KdLjNRB6yZKfWT65pI1E6qUVSKsgwGfnCzXDsIdL575M8cXG1a5rbmjWxBHow0AjYxGR5T4zdd7G9MNDLCHPgRxUCOjwWYKmAsLhLGGluM/THGQh5xv69h1KfWiqpwaY9am/KxhEEFzWMDf7WyVw2FYJy5VOgUA4MU5NcZ7q2wc4iovzslcuqz4pbk1AZV8/TVHCKDcH+w7EtZd1xQS5ItVx8WGOy/Ziw3XVjsRpFCW3SYNEpJ39Ov6BnnWLsO42+zzXwS04I5sS66cMLoRcdg2Gm002mxzExFgwogNhsqeIurbjI+Pt4w1/EqKf5eAsVrS8+3TqgEC8dUqp4bvQtkpI/uMtSz88uKczGXLky/NyehH/c/q0mXSzXHp8mJmBnjvdbVGbfa9+ZctT740N+PsmVkRjZ6ZjEAA4/lZmRErk8/Nyqi2jdEizSXa+dpdB8eeC4hMBcZtbp5S7WbEYFyzMUVoRgSodl1P/WYjmBFc4sv2wQNw54uD/ckETzpynDiK/var2h7nNzIzs6CMRkYjs511/RA2/rEz2ZHx10/N7MEG/KxBHnMoA8TM48o96zmKVeP1auR+WAyh26M7ZKGMAEkn0KviaYpYZbOQZ7NDE0pax965NSBcuqx479waAMOXufGj7kJq7N6w1h/lhxVvv9Ed8xOLoEEuH0eQ6OHm6dOHt1MimONqzU5EhHHrUqWleGZ6xpAgxArerqqiPaXsqkbgobD6BltlIxnnmM4FIoegJ1MckYjvgNPUpW0QNorWE0dDQ8ORI0dOO+20eDygqY8++uj48eN9+/bVH1B7OlbW/fZ4Op1+4f/OI6JGRqPNtk1ffflMIsoiwr2Td/559n5h4NAlDg6amxi87Y+oJEzaINVj8TCemZYxlQ7viY5OFKTphMs7Kmz0hdk1V6xM7lExmj6q8wgvWiuXLitWTQHYO7fW/AQ6S2OL/b1zay55qujl62r11th/az6px98j/TKXLit6aW6Nfq6HPhV9OKLHlV6fixjeIvRDjyVVS15evTYl+PqbNaXwNuUhsCBrhbHlrzVjS0p4WJopdGRPWSiw6HnXBXP7C4MB/Pzydwxdz2zF1+rJGnqtIo6qqqrFixf369fv0KFD8+fPHzzYDXf7y1/+8l//9V+ffvppQUHRjip4AAAgAElEQVTBJ598cuuttw4cOLDVvT1BiJH65HvniN0fDHurdw+6MIQ3SktLiRzHrSNusNRsmZn+9imfkqcJB1kH/6QNKTHbEkSbJ1cBJAJMx5WnfKxBIEMQchvaNaN69JqUdKOEhpB6tkgX3Y0KGmtc6hgyL11WJB7VXm24OmKH5zIEDF9W/Mr12qgmKZQEXkvV0Uv3Xlc7/KkiqeP4NAutGYcfQkKwdJFj5Co1M0UeUCtIyeSDSvUIQvYBzo5bJixi3dOUI6Q1C2SKHgBu2eXShDj60Ih3bMZtewYB+Hn4gvXtg1YRx4oVK8rKyi644IL9+/evXLnyvvvuc9uNx+fNm1dYWAjgmWeeWb169Ve/+tXWdrZ1mPn53/XuQb170HHbagj3rFRWVs4ckvhN3pepkYbHf63oA5D2jr86xKFYY8M1VZOfLtkowsAI1250vfebJ1dP3JDSVpbXg6W9IjC5YaNhEg2CBj+CKCPsFGieUYGX5tYopUNUvtgRH9S5rmM1JKmq8hz7+UKvE3pUP8CeYo8ZkLBnVuaKlcXPz6pBwPRcFuWacuRpT3383fYC15eE+xhZ+5nl1gTWTqwSjhVdHPM06eVWhZt2DmJmFUIqIJaVVc002nrkqKfZAINI2+PEiePo0aMHDx4cOnQogCFDhjz22GOHDx/u16+fOFpQUCBYA8DnP//57KtptynkxKdev1n1/nnzin4v7KONNu3/ep8wOxMzzrH3FyRo7ydfxicY3+c37KjrzNLU6pc1rn1a/uFlji/nmDcuWx/ZrOwX2oRd4bTzfE3FJyfYO6NfSFV1yolA5Koe4uiLczLaWWSpRrSLqc+lZiiQ3VVyg96NV6+vvfip4leuq0E4/B9VY4qccXs6LSqvjfiTCcrQp+SxlgfAP3j0ZyKizQJFNrc+sHVqZnx5csvUjEchCc0imO1mjf5ct90T9HXjjhKAn7jK8eM61OK7BbfowSveCQscNc66tA2yjQqcOHHU19f36tVLrGJPRL179z569KgiDgXbtrdv337JJZe0qputABGlY79uZAKkWdQW3BH+PJWUcXHerwsStPXoueJ11mN4xPs9+emUmnC18doq38gAHKOgFHJNCnGXXYcY+9KoqGnZ6qX3jlfDvaIaYebLlrtMIbyeYXdqqSa01qRMrkq0u6asMkWTMIbQ3rm1l/ikGwAMXLqsmJkdrw1emlujxIfLlxe/MKfGGF0aMQRcVM8hprijOT1UhRM3OEk69JrZv+8EYpRtdeUI8Q176uoDrEWOijmyYR1oNwmipWhbrwozP/744/3797/yyivb9EJNdEN+LB2PrAgJDZT8RH12/1zMGNv7twUJ2nDo3Ierz/7GeW8KG5V4956+VlrahK9OQTGLU6ixBoMI26dlxqyVS6i51ZQrQrWjfSp3l9VcuUrO1zBGrwjHhMMmL82tURUuXZ70f9VFiUVuLHyY+CA6pAvqriDgo5AskSAXLi0SNhFH2JI/xA1e8lSRTKXpjOeXr6sZLoyj6hNs9FM83qzKiK6J6EYHrzhlnutp3xD8fDqO53QAwAwneFREka4aL4PQmYWNDMwn4qN14Ihl4XaW4f97khdtC8SJE0ffvn0/+ugj27Yty2LmY8eO9enTR6/AzEuXLj1+/Pj8+fObMYuyDSFWWgNAJEPIG+1sxEEEGyLe3GMfXZj6w/d+fdYDl70zsG/MIs9LbIimxoZiAJdQyDsYSH3jZW21ZIEuUyitZ8SqJJxhRkQiHJM0F6neA71vytBgBc1s9SosYHZTmTmkd4LQx+3FTxapdEEQdtbraoJalg/FyUUuh8qLc2ouE0IH5HilIO5wd703KHbVujNZDKXBL62TmwPAlKdL4DVnEGHNhCoA0zen1kysDrRowLlqS4dEM3WOvX9/ajtwx4kTR58+fQYMGPDGG2+Ulpbu37+/X79+Qk/Zv39/YWFh3759ly1b9te//nXRokVCndHRzlPd1Pz3RIwsItsJ6AiDWipF8AWDhD5iM/7x3LeON1rHG7kg7g4pAp6+tuqajSVPK21FS5Ih55Lr5fpodAUThzv0sA/nlCtXiSQUuHJVkpnFnFEpLEh28Lzr6rfwlb7iVQd01lCne8AsnoOBLF/KV6+vuejJ4lc1V4vARU8WA2Dmi58qFmShu2MufrLoletrAddjIn4P9zCg8+H3JdFQptMRvuRApB0VHWim3B/GNRPXm0Fi66+pUlZz0Znpm0sImLY5tXZiNRutBSUffeKqAzfuHASzOKAbWXp+8U9Mmgiza5zEQdcqVWXWrFmLFy/etWvXkSNHFixYIArLy8snT5788ccf79mzp2fPnvfeey+AXr16/cu//MtJ6O8JIWEhZhGAeAyJGGIWNXKwjVpArEevUoeyFhrEzI2M440ocJ5cVg0FE9Ynt06tFuVKKfCIKnJLyg56myNXJ9Vn+bmZGQJGrEo+NzOjWzccvtD6oDGTU8ddl8kCATCY3G92ZeN7qB0g4MIni1/zEYRoR9CEDkElFz1Z/Mr1Ncbbz8Ar19dK7lBEpsa5c2XWRpEhouuqhE8TcR+I4H1dflH1KOgUyLVsWAWeM/OWKRn5GjhKh7oL/QmYL4RX9mmKuwIOkmN0c24UF/2PhynaLjw0C1pFHCUlJffff399fX2fPn1UANi3v/1tsdH+2XrCINZPuqnw9w9Vnf31c/6QiCFhZSOOGMEiEgvTi7ALGcrhzIludLy5Hoco+y2dziFtUpyqv6ssM1rpIwSARrkJNcCOcxHaic/PyoxwnJHiLNfHobORl5vY60QwhIuLnized4PJAvtuqB22tGjfjZ6YLni0Kfn7wqVun4kQSCjqDEO3D5bVpQSkuRHIY880+h88FB1SUONNLFi3qywDJx5EP/HqdSnobEUkspOOL09tmVINwD91xX9dJfG5AayBHfOFAiwdUxXAhr6dC//nGID+Z/brf+aYQ2/v6BC+UGitcTQWi/Xv3//Ezm03bUWs7Sq1FYviYrVXC/v/Mdgj+2bi/POxX7BGjChGUtMRrMFgmz2565TYrI1P7zdfow94t0c5uTMAPCdy3kndJKlqwjPGZBmZqzGQ/5crcehnZh2x+lF/NUUTFy4tEsdf85LOhUuLX/PRkP7VhS9Vh34hVaxrFg7juNwhYk9edJJ3qNsjzQHks3y6v0evKWbmq9akAJSWllZWVm6f7pmWYnRwwvqUyIGudA1yDJzsbT8QTUkZzcLC5wcDlf3PHAOgw1kDHTtXRVg61HbbXUisC62Skn/r9S9qB80AE7HGfV4M+THKT1BeHPlxyo8TgPw4GGhoREOj5An3lQW2TMlM3FCyZXIVyHK/zcqa4FRWq8kDAHj3zBrA04484Ewk9Ui+BMBd2lppJZ4R7vOYvnpdzUVPudYHo7JqNhDDNIECgJBNhi0t3ndDrSps+hX2yQiuhsZ49frai54sevV6V7rxWDrVhsMdooKwHJnDJ0gTUcvHMbNIkvbszJpRq4p3zsgAfG916Y7p1dlvgdn0t4TVXzuxatqmFEL4pDkhpwI37xqk7MfiZwdGQgWigye5tY/E8fSRc4WeAuA7v/rSD4e9lZ+ggjjlxzHE9+eoqKhYOCxvX+OXr+rxG8kaCcqPA0BBgvLjdNzGcRsNNvJiAPSBKj5qpLGGlH6dKW1gxs4ZGWWYGLU65acMBH3z1dh+cXbmshXJl+ZkzNmlBMCjlcBHKn5hxMAwr94xbKmmxWiDwPjckUfaYv/gHybEEN+XXN2XX/tQWx4hQhMc1Om6uZSBK/zLUM6UtomRq6RiOHJV8bNlNf7OICspePsTrE+Qnx0c/pJlPj+LeJg37izRmWKJCBt1usjA0ErcsYp/NjOc49sXHUYc7eZYEX+Mx+vO/uqX/vDfb551/wVvMUSKDQ5MBXbj0MQp+TQi79c7PjoPwNwv/D4/TvlxEFFBnPLilB9HQyMfb+S8mJkTUJ8CN15qxTyuPPXMNHd5BHJeL4B2l2VEaIaHKbwqgxlXTmBmy1uq90Gv6WnH2dHvWTDFsKUyzqriRk3LIAx7ojiAz4IGlqq174ZaQTcBT9YZQkFtmOKDa+MwucNTT03wh5McSEzqU8Zs/UpiwTo138c1qwZB5wKjxLfjATPWqXVkQ3D9Dn0eCm7cOeiJqw5A3ViYE5dwx2oG8LMyEqJ6B5oRc3xaPYDKysp0Or2o5Pcxi5g5HkPcIsuiMGt0zJIulWtO++0pebT8T+feWvJ7R1Wh/Djy4hSPUYPtDkKCwwREyoq2bWo1AMUaPpgmEjXiHb7wspJ2VMWEGM0KmcMXnAoAr11fc+GTxftuqFEcIRoRJVKs8Pcy8AF5eMh/CsJsgtCkEdKrqzpSaIIKP/OoKgCcmbvMTMQqwcdly92Mh/r1/afr3WfvTbh1tNpbp1aPL095ukmeqDM/gUgflrdUxY+Kh//U1e769YI19CedXZv5WZlrlWsfTT8QuU8cAgmLYhYRiYXmkbA4EZNRYQYsQsxCzJKW0a8U//7BA2cBADgvjrw4OQKIfO0mbvDEFKs1ok1eUKSgbZDzaYVebpzo7HiGakACMVy4tOi1G0w/yIWafzT9RJEhU5gbXuy7qXbYE8X79FOAYU8UV9xUE3yCfmMeeIekJnWITT0GRCe+i5+SJlhFdiq4g5lFHpCwAezvl1kh5JwsbaoSZ7Z0MPQspAKrx1cJMcJ2Apf1k7M25oHOGtD4ojkMcnIF/G5CHFyQQF4M30+/dc+rX/z55W+r5ZQO3Gc6VhRlxCyyLMQIX/3Sm6fk0/d+/aX7Kr/408vezo9h3rNuAgHhrlPsMHZd8hnBHfqX3ysFmFZPU93Qiz3DUDS7d27mkqeSr1xXQ556gBNtpUMZKYYtLa64sdao3xbYd2ONohv/pfS7VuNFFOqdv/ipYgBu2LvzyxUc/GFy3kn9cvAbRhBNPSWAwx6FlzO2TcsgzF8DAO5K1ACYWVdVsnOCP8u5v3JzGKVFDHJS0E2IgwoSJEybAITQEY9bcYvj3uhI8TreOyKvIIGCBMQiCQUJ6pEggH962YG7XjwTwLKxB/JjlBdHzLKCB3xQygydTcgJIRXp8IRm3iRl6D9E5QuXFoluC+577foaw7ShILUSn/hglHgfW1BD4fCLS+5e0IAb9kSRxtq874ZasSWlD2OsktfKCLx8Xc0lT2kBpmEShMYdz8+qEWtfBtb1yxrkU2gZmCBDSF1dp3xSFRzFbppP3DCuwd44jmyOVe8RQ9wIRLsxSLcgjsrKysTf9YpbELpJzELMojixYBAD/Hrxg//+wUefcI8EFeRRQYJ65FsFCQDUIwGxnrhKC6amsZJ30Lg6vJ4xzLWJkFHNoAzhN3FLNMq4+Kki0fBFTxYzs+4WvfDJYr++o+9ne+1CtZWaYY8X7zN0E+0qDE+0uL+ZtMNNhmcXmi1WfJaHLS3Sbwfki8twuAOmd8U71H0UE+i4bWZwBRGNL0+KwB3xALdMydjMzLCdfmRriT2//EeUFThLI0P/89gdq/lnZS2QFf0McnLR8XEc7WPXicco5hBH3CK5G6OY5ft7Hcdt9372v7/7YV6cesTRI4GCOHokCEBBQgvAYE0GNnQNBJQbNg6j3C3WsvKpysOXJZWjTsU7XPikM8y8epAHpopEnvFCvhDpIPgD0sOuosorbqxJP+HSxLAnigF4RBvvUxejPXjWnWHpJJczlDISBg93aANVOGjNow7dXK1lmVe93TY141g3gtvXb2v6lpI1E8yVQNUpbj3Z4IlYN5qPNmKQbiFxAIgTxyyKEQGIxxxxw+J4TPtqEfFLRTjOYJ4z4TPPPP9/ibjQU1CQAICCBPmt3x7WIOyYnhmzNrlzekYfZ17ucOe8iRIRmvHinIw+BIYvK1aO/Zfn1sBvHCUyeCFkxxzPwrTZ5KgD/HcQ8OKqOunHi7WvPgCIC6UfD9KGXAL2FhAuXConwgQaKeBzzVzyVPHL12XM8ezjFyW/KFJW3GAsc7V9mhsPxoxx5SllytR/GncjZjBM31wi8oD5qrho6egf+p/H0Gx+CcNJ/0J3F+IQwaMxC0+Mqbpue8naiVVi4eix61IXXJAUQ7S0tBTHPxAv1+lfzO/x8t/iMSTilB+nggQByI8r4nB/kV8T8XlSSR4lqLHqpRsAahEjQRZ752aUPuP51AfpHRSw5S0I+ZYb482z6exX3lKXXlJUcXMte8Wj0iWFuoxguFrSjyuJI+u0VO3Qvhtq0k8UmS4YTSfS+ymo4ZXrah3dzTwljDugxZICKC3FTidyVCkMof3NYhfJUieo6AYZuxFQ8cs/OuYpa3V0eVvI9d2HOJCwKBFDjBjAtE0pQRa7Z2USMTrldUBEfPy/0orvvy9sGDPn9N5a/ud4DPGYtKrmxd2ZVm7TrBsvtEFnzkxxWUPIClesTIppmyKo9KU5GTUMhy9Lkpcy1LkK+26svVCEYIRIDTrLqJ6aFeC7TAhKHytUzZQuKQRQeUudt2nPGKq4qSb9uJBuNBoKHALesRcQByEaYLMsezocVcGIJSUCMz8/q0YYqr5eVepRf7K2qd+t3vcsEybDsPSqAzc4LpXzfniSmaId0F2IIx6jRXsGiXeQmZ+ekonHkIgRWSJ/nkTFdw+mv3F6xb8eFNwx+sqeb+z7WyIOodHkxyFCumWeDpHpx9REAreJSObUECDgRY0pCBi+vHivzNxFaqIKtNZUgx6hI2jMhykgBFTcVFO6pEiMeYap7+hILymCEuwJlbfUMZB+rLDilrqAM1TPpLEwxNEZRh/a0NX2vNUpON+XJ58oQMBl2vqSzCxiw9RZbopjjSMCRRUA48pT26ZWj12XVGUBKxD4bqeJkc845wdHAah5Um3KFG1kRuwuxHHbnsGPjz6QF0dejKZtTsUskAXEgBghBggDx/ov4FMGwAw6zmDkJSgRo0SMEnEAELGn0pzuvGNS2dYEDbmUwYxqYYmQ81yJntdWcg3y0bpTsn35eIya8B+VjlXdoaNbEoLkimFLiipudr0YgikUKm6u1c9IP1a47+Y6Xxd8npQA1cg3KijoCMlBqZ4P+0a1X/QgiEiwJBwVD8CLszOukQIuJbHRmrdLoTNr/fCYNt1t4YidviXltfIygJL7j3oa6AoyRXZ0/CS3dnCsENFjo96JWRQjWBaIKGbBssiyQIJBBD5lWKj45z+lvzNg331/pOOAzRf8XUH1W58IicOywEyCOQR3WI5XXqeD0WtSAEatSYlWn1dZQrWsHKQZO9Rb5sk/GEIZ+sDcd2Nt+vGiipvkCA+YKkbG2SYUWTBz5bzakFqigtthnSwEdRoQRyturk0vKd53U3izhgBCqLyxNu14bYO5A7joqWJoEL3aOyejTJgexccrQVyxonjP7BoldPgFHMPuI/DMtMzYdcmtUzP+O2CNxdZNrJq6SfzROfXv9d5qHcMUbTe4uoXEwcxOIDnFLDBznGBZsMiyLCaLjj/02cSiD/EpIwY0csU//TH93S9U/OMfYQMNnErmHfuwAYBFYALbBEuk5YANIvDo1Uk4w56Zd8+sHrU6tbssM3J1UmTugl+dcYa6/E145bqai58qftVZYUCjEO9vHwcEKCZBXOFwBBNRekkRMwNcOa/Od7JPiIDTRbNHvv0wEwayzid35AgApZpxFA53XOgNh31VS1B60ZNFr1xXe8myYtNQou9p7CN+vjC75vIVMu2zWz9LCyHQTRvF/yaYQvJFZ5Ap2vST3C2IAyJfMSEWoxhh54zMVWtSz8/NxCy2LFgWZPzncUYjYAExVHz9vfQPz6j42nuiPOFKHGALYLrsSVewd7MKO0QgWMNbqM2OVfThLYdTWUtFpd2D9yyXcjwl7q6petyiaSWPFVXOq0s/5qngbdgUBypuqS39ZWFgfQV9RQVfo07HfCOKzIpkhIqprGJ+gcJp0uuIoSY8OXCe2z1V039UsoYdXSZ8lS5PV0WzZ/xrp5ApOgqdgjjaYY6wiP6KQURzAIAQOmQ2HAY/+jkwgwkMNDKYmDn94zP0Ri56vEgNgL3X19g22zZsdtWVgLGsiRge+tB8t/pAJWDY0qKKGzz2hSxCh3Re3FwLIL3EM950pjDA7P0K64d8NgvWPr+VX6mTlYKgxpWIMxOmTGFPdeuQU8tpRHPcSpcHADmtRjNS6JfxeFgIr1xXc8kyGWurc0cWsG9ZOT2cTyeBceUpOH+vz/3LEb2FbBfoaLS1BaBTEEc7BI/GCHLSmiUEB3Y/jAywY1ljgFH6P2cAqPzqe2CkfzKw4ra69IOFFfNqmQEGM9s2bBtEIIIF2ESOH4EMaQI+7vCSCOl1IOURI3JDb8szsNWQE8KFYc6EwQLaocqv1KV/mVXcCCpXveUwV4zmGQGpVWLMIWqKQk4ACDOGPVFceVNt6ePBfTP6k82WqRtQNU1Ke+BaWgOSSofR1Nh1KT3v1ucqOztZKLSD3bBTEEdbQ7DCe//aVwoXct4BIBY+EFIGy3FW+pMzKv7+PWKgAQAq7ng3/bNCAEI4YRsAETERLBCIbfmB9VCGO8SCrBseWUMbhGIemtwJkjhKl+izwlDpyBTpJUWOd8eD7IGhFWHWUK+SoreR/mVRxbxaf6us9CTDUQIIk4rnujfXBrk1g8lItz64zZNxuwEXD2xLCRp7ZmWuWJksLQWE3dc597RvHtFOONJVmKL90S2IQ8BmMMiGcKkKOVoKpWJx+tKfDQRQefu7gjKkd5BRsagu/VChfE8twIaj4UgJNnBe7AuzM5ctLw5kDTdPV0COctUQ4MzyUKi8pcZzWNdZlDqQlSx0pH9ZVPGVWoRYQz1FfrNCMLPJ4eu3nii/L3trms0yA6i8sbb0iSKlrQTDe7pnhIcMdrEy5mUripUZG0Dvf9KZosvIFFnQPvO/Op442jGHIMSkRgb2zKq9dFly7/U1Fy9xVxWrvK3O8zqqb5oosZwEEoIqLIYNIrLAcGRdnQgEQQQKGrJ9vz5CMpmF4gspxru2jQDKAJqYqxaqWTg31zTVODUqvlKbfrSo4iu1+pPxaz3CvJJ+rGjfLbUE6FbVLNcqfbyo8qbaZvUHAHDhk0WvXS9n4r98Xc3wZe6UYoTz3uuvvy4vV1qKnGCKDkHHE0e7wWbBHWQzj1hVzMzDnyx++aYaywLFJAEojZzU++tspB8urFhUJ8QNYdgAydgvobkIGNoH4IokuqChb6ilBtTF3Hkf5Pll2DjUESIqfbRQWi69Z6CpcdhsAUWCmdOPFumEUzHPN9oNDygRCM2YiOsJANN76E9T7DOYBpcD6PH1w87mYXiZoo2mnHcg2m+6eTtco5Ng+hZ3zuKzZdWjVqdempsBE7OTUUK8mvLNBSCjntK/KKy4tS79i0LWZA35+dc0F2aXNdR7f+ny5Mtiuppm0TACE+TkUYdupMlTcoTiGAmDSTxoJgco8WF+bfqRoor5IRqBNgTTj8oYkNJHCgEIBcfTpH8ca4udCVdu5bw6U1HxaSvq7ipuaEJbETX1YDB1OY0pPOU5j/ZcVrW7EEdpaemqcQficoEVsm0ws82wxNvL0swhX2X1gfdb+3RZwyLYDDFdQmguzlmCI4QGJPSVi5yVUwG8ppKA+7UVAIDwsJKvPIAaWiFOcPigSj9SpHoLV0OREo3QVswL+Z2m0tNtWkA8O1pJYJrfbJdwgsESXzskdgteB7oTU3QgugtxVFZWNo7tYzEabViERgIR2TaIxOAWebOdKWvsGdLCglBxe13654X7hB2EQErWsMAAbFIL0AuJ45JlSVEi0mfqSf1kJWMDACG9pHjfzbXDlhSZVgxfPg7zBufXlT5SWLkgIBLU007IlU2mCBNDskApW6LBXxYJS0eAZSdIPGlO23AiLGJfFUxxKB4xhYP2FDfQfYgDwPFGELFF1MhsMe2YXn3FiuQLc2vAIJYxRe4n0jPtlRzNhSHEEEczISIGS1XFwiWODkJEr1xXc9GTRa/d4OTvDmEK7wbBq96bxtAgCSL9aLi64YVijdLFhUScfqSISGxTs1owuCywO7otw2EE1rUV6Ezhmi7SS4pFMJvir8oba5S2Yv3DIc+lI6boaHQK4mgfx8rxRiYii9gisgk2AZCJ6oWeEmNnhqWwLqgAI8jXu/L2d9MPFu5bVAfHm3uR1+/48nUZx5BBFz9V/KqTYVz5bl0EUYZrfbilNv1YkYizcEMkDPiFjgV10mYRxC+lD3sCxisW1ImW04uLKhZ4WSPI+ao2SDeOBI1f0k9y1JGASuypzswyf4c47+5DVAngkBXJFM1AO4sb6CTE0T5QEgcRLGLLIqGtgJiIxE93GWfjRdV2hz3kjsBXb6mFCAphwJbZOtQ4dwd8dnEDrh5iOlab0lDczjkDUNVJL/aQWuVClx0EiYiKFQtqTe5QV/HFgJnX92kZ7EhjStZQz9NMKUpOpIzYI6qsrCQnUDNiiuaj/VkD3Yw4FDWwRUSNAGAziOVPtsFkeAjku57+RSHk28wVt77rRKmLeVFy9LAFsqH5QuTZr91Yc+ETxa/pmfWCKAPwpKVRERO+U8zesXIYLy5iZsUXphxxAnDGvN/5ooQOJs8DU+Zh/SEKV/E+IUbd4kaCWXd9qNX6MCKLLoRuRBzD//fPL999qkVwFBZsmVJ91erUszMzTMxETAybmECE9OJC1j6SFQtrXRJ5qLBiYZ20gFhgW6g1rHYBR+LQRrtX3fCFZAVLHEFSvlaitA9BFoIpAlQPYboxhRcloqBiYV36Yf9Z7tlZhrR7X74qIj4dQOVX6kofFV1lutMli4gpWo8OETfQrYhj5629jjciZiFms22TLePNGcomqtks9s13P/XDFhfBqSnhTHlgpdqA5Lff8nlwgddurhm2pHjfzb6F1Hz0oXsfWJPkdZkCEHNtuHJhHRymYMB1igTNUVFFpQ8NrFz0bkAXhG8pyOppZBgMDuXS1JbSRwqJqIblCe8AABNKSURBVGJeLd2haOJDREyRQ+guxFFaWmrzW2IxFJH7T/0cpeW8fvmmmphFnsGvxYa5v3Xl343mdHQWwwni1Vw8G9ouqfgI56gwdmq5OcgUClyWcamiYmFd+uHCioXNzdDjbY8A6KncJT96B/ywR4oqFtRK48h8j3GEbhNM8SEA6jrTSbsoOkrcQOchjnZwrHyj4os/vvhtsX39dplgmgi7yjIxJ50P22Bi8k4EZyc/nPQpfKW2dHFh5XwtxwQUfaj59W65vIxbFOJbFTLFo0Vq7SVxUqVBAV6dJ4wjApGFNSoW1rmSiGPPVMmBiaj04cLKhdIRIyhDtnmbbqeImKL90IGsgc5DHAJt/Sy+9sqZYmPpmANi0fn8BI1endpdlmGI3D3ENliT+oc9VlTxlVpjogQZ1j+3HK63AM4gJwDYN692mKPz6yPYieaWkB9wYfVU7lLNwmLAHKgEQE7nrVgUTCjBmc0DbkcKUOmHC4kkfxFAt7oyRUAHug46duB1dXQu4mjTP+T3St/Kj1N+QqyrREptEWDhVXGiz0lfGpKDhHzfeHEdr+RkqPJm9xKGT8EUSqyo1LSP0sWF+mU02YICOkDOFbKrH+EwgsErb3239Bce84erNEWO0k6GDme9zkUcbQqbYYuf8h/bINsVDQDHIysIRXNumENl38016cfk2gKBhoP0Y0WVmnAhJp4TofSRwsqgAC3W8nRICGuD7FeIdnNCw9i/FmzajUyRt00LP9Dqu9sROgM6nDXQ7YjDZluTNcS/HdOrR65KPTczI6qx7UyXVXmDg4ULMvQXd3ATAJT+slAPyhBH0o94J6F4TB+6L9b9JY2di5wllIye+B0oQlu5tS79C1dbcYPNfzGw8tZ3lSIjbRaL6hRT0EKnJxEihKNbEYdkDV3cEP+gmS9lbBfLmbFh5gwXQqZYUqy7P4hgmjNCAjfUbvrhospFdcYBI/jCG4iB0gcHVtyW1TJKxm9AxKHcWkcLPHJExBRdBZ1B3EA3IQ6Rr0Um8rElg9hS4jDzXYuYDraZLS1GSo+eFp90Z0aWqFIxr1bLfov0o0UBlEHSH7FvgZa20+slMU4Rv6Wx89YAjlBn6sKIiHOVQodzlsMUHwCgBRFTRGgVOhFxtJFHdtGiRSJXtStrCNbQGMSEozlAZQYW4aRaIn+Bynl1Oi8ETEjzH/UYLHRDihlWJc0v4RJP2CJJQgyh+R8AH9ACrf0IXRydRNxApyKOtoB40LdflPda45c1s6j5b+eMzIiVyT2zM2pgExFZuHBpMcDDnNR+Yp6FTNlBWsgW5GlO/IPTii6nOBsVC2vTDxd5gi+UfwR+N67cNcQHdVbpgwMrb5d+EJofaR+5jM7DGsht4hAP+tYL83rmE/6mKSm2TFysKywAYpacHXuxk1ZDrO1ecUutlqfcGdVq2R6fSuJqNOzRbtjIKOZ3xoRkwHLZwRBJmF9//XWa7+624OlEiNAK5CxxCNZYNCyvZz6dkkf4m4cpbEcxsAgW4ao1SSIMf6pIfPb3ObnF2bMIAkSh+qmTAlxDJpU+NLByUZ3STMRK8Ur0IH+AlpcOfBYXmQeEmdMPFupLBAEfRGTRTdCpxA3kKnGop9wjDz3y6JSE1AIIEKtPxy2av3uwqv/inEwiThctLXrtphoikp9+8Vss1ka6ZKF0EkEBIrIT5GgXTlAWOTPoCJrC4kIrKX1wYOVtjjJi8Mh816iJSKyI0DmQg8ShWOPu4VLc6JFHAH74u7P0aivGHeiRoIIE9UgQWcTAazfXDltSVDGvTrGGmM0lbB6AYdtUzCCP6uYMzdphJuYR8I//0gcHVt5ex4AVmSoieNHZxA10NuJovWNFnX7XJZI1TknQKXkE4LsXvFWQRz0SVJBAjwTlxyk/Tok42QQi2GpKuyFfWOThC/0QAwS5suytdR4niUsQ5Cl3fKVy1QXN/QFAWCsipoigoxOyBjobcbQS6hHfebEjaySohyNx5CeoII78OArilJ+gggRZMTCcpWMJTHhtfl36EWF9cBIUW4BuziDlIHVS+4tDFuCb/QEYaockGuX+iJgiQhdF7hCHYo3bL87rmUenuP9wSoKYWcyFLUhQfoLyYiRsn4Iv5D/Xk+paQ8kSJXANH469U+VDr7izLv1AYcUddYomSn8+sOL2dz1TTxbosz8ipojQLHROcQM5Qxz68xW6SQ9N3Dglj4iowFFP4jEPUzA89LHv1nfTvxhYcce7w35eWHFHHSw3ilPl+3JtrYzS/z2j4u73ALm4bPqBgQAq73yX5kWmigitQqdlDUgJu5Nh0aJFLVrUU3++X7ssXwoaCVIbPfKExEEFcblGrEfQIJM+AKWAEAiwgBhggSxpAWFyTCEWKv/hvfRPzmDm9E8H0i3vQ0xCn/cBe3GSn1GECB2KzihxtIhlddYgovtG5gspQ8oakj5ARIm4hylsEBFsKMsobAKBbMK+O99NPzBQrLFEjofFTV0srB/MdP37Ti/eRyRTdCl05o+5QCfvYacjjhY5VgzW+KcReQUJFMSlSpIfp7w45cUpERORFKTkBZ+4YZbINi3HGkogAs0+qF89YooI3RadUVVpJgx+Yeb/eP7Tb23/RB/NrGXhEbm/8uOUl0BenPLiSMQoHqNYDLEYkRAuLAz/eSET7fvqewDS/z0QFsECzTlIsw9G2keE9kEnFzfQCSWOZiLwyaqlAwAsndNTDe0Fzw1eMf5AftyyLFCMRF5iywLF5IZlgSyyYrAsqrj73fRPBorQrsrKSprjthwhQjug87MG2po4Ghoajhw5ctppp8XjwRdqskIgsj9ZRR9rb/qMKiRQLIa8OJFgihjIoQxLrIdggW5RfpD39aYiRIhgoA2Jo6qqavHixf369Tt06ND8+fMHDx7c0gqBaCYfq0XP99x5KoBZW0u2l2Xy4lKsiN/xYeApzelAhAhthy4hbqBNiWPFihVlZWUXXHDB/v37V65ced9997W0gh8teqya5lIJoF+leShChAgnhrYyjh49evTgwYNDhw4FMGTIkEOHDh0+fLhFFfw4MTLmILS0kQgR2gFdRdxA2xFHfX19r169LMsCQES9e/c+evRoMysIj6zRYBd6phEinAC61hveNdyxXeuZRoiQ82gr4ujbt+9HH31k2zYAZj527FifPn1aVEEhYo0IOY8u95K3FXH06dNnwIABb7zxBoD9+/f369evX79+Yru+vj5LBQNd7oFGiNBSdMWXvA29KrNmzVq8ePGuXbuOHDmyYIHM0l9eXj558uS+ffuGVdDRFR9ohAjdAdSmLobGxsb6+vo+ffqExXeFVRDG0Yg1IrQROs83qfP0pEVoW+NoLBbr379/lqjQsAriUSrfSotm2UeIEKGt0Xnnqujc0RUpOUKEJtFFxQ10ZuIQiOgjQq6i67IGOj9xCBiaS9d93BE6A7r0iO0k6BrEIaD+2JEAEqGro6uTV1ciDoVIAIkQoWPRJYlDIBJAInRRdHVxA11lrkp2PPTQQ2JenOG1jZy4ETohcoA10KUlDgOG/oJIBokQoc2QCxKHjoccIJI4InQ+5Ia4gVySOAxEASARIrQdcpY4BCL/S4TOg5wRN5DzxCEQ+V8idDhyiTXQTYhDoZkCSI79jSNEOOnoXsQhkF0AiVgjwklH7r1U3ZE4FPwG1Nz7A0focOTkS9WtiUMg8t1GiNBSRMQhERlQI7QFclLcQEQcfkQBIBEiNImIOIIRBYBEaD1yVdxAWycrzhlEAkjOoN0Gcw6zBnJY4mhoaDhy5Mhpp52WJVXyn//85+PHj5922mliXfssiASQCBF05CZxVFVVLV68uF+/focOHZo/f/7gwYONCn/7298WL178pz/9qVevXj179rz77rub02wWA2puf14itBQ5/z7kJnGsWLGirKzsggsu2L9//8qVK++77z6jQnl5+Wc/+9m77rqLiBoaGlravmFAzfm3JEIEA7k2rR7A0aNHDx48OHToUABDhgw5dOjQ4cOH9QoNDQ0vvfTS+PHj33rrrffffz+LLpMdKoEQojCQCBq6w4ckByWO+vr6Xr16WZYFgIh69+599OhRfWHaw4cPx+Pxhx9++PTTT6+qqjrrrLNmz559wpeLAkAi6OgOrIGcJI4m0djY+PHHH0+aNOmcc875+OOPv/GNb4wYMWLAgAGtbDYKAInQfZCDxNG3b9+PPvrItm3Lspj52LFjffr0MSoAGDhwIICCgoL+/fsfPny49cQhEPlfujO6ibiBnCSOPn36DBgw4I033igtLd2/f3+/fv2EnrJ///7CwsK+ffv26NHjrLPOevPNN4cNG3b06NEPP/zwjDPOOLl9iPSXbojuwxrISeIAMGvWrMWLF+/atevIkSMLFiwQheXl5ZMnTxbiRllZ2UMPPbRnz54PP/xw2rRporAtEAkgEXISORs52tjYWF9f36dPnzCniW3b9fX1vXv3PmGvygkgEkA6HG0kF3QrcQO5KnEAiMVi/fv3z1LBsizd1dI+iAJAIuQGcjCOo/MjCgDJMXTDD0DOShydH5EBNTfQDVkDEXF0BkQG1AhdDhFxdBZEAkhXRPcUNxARRydEFIEaofMjIo5Oikh/6fzotuIGcjiOI8cQZQA5KTiJD62bP/9I4ugaiAJAInQqRHEcXQlRAEgnQUTckcTR9RD5XzoWEWsgIo4ujciAGqGjEBFHl0ckgLQnInFDICKO3EEUABKh3RARR66hOfpL9Nk8MUTPTSEijtxEtATMSUf03HRExJHjiPSXCG2BiDi6BQz9JUJLEYkbBiLi6EaI/C8RThYi4uiOiAJAWoRI3PAjIo7ui0gAaQ4i1ghERBwRIgNqhBYjIo6ujYaGhiNHjpx22mlhizwcP3786NGjvXv3zsvLy95UpL/4EYkbYYiIowujqqpq8eLF/fr1O3To0Pz58wcPHmxU2LNnz+bNm7/whS/88Y9/HD9+/JVXXtlkm5H+EqFZ4AhdFt/97ncrKyuZ+Ve/+tX9999vHLVt+6677nr33XeZ+eDBg7fffntDQ0NLL7Fw4cKFCxfqu63rckeipZ3v0jfb1ogkjq6Ko0ePHjx4cOjQoQCGDBny2GOPHT582FhiKi8vz7IsALFYLC8vj4haepVuq79ESkp2RMTRVVFfX9+rVy/BC0TUu3fvo0eP6sRBRAsXLvzFL37x+c9//uDBgwsWLBCVTwCR/hLBQEQcHY99+/YNGzbspDfLzBs3bjz//PPPP//83/72txs3bjzrrLNOmDsEuokAEokbTSIijg7Ghx9++PTTT58AcfTt2/ejjz6ybduyLGY+duxYnz599ArvvffewYMH77nnHgCDBg3au3dvTU1NKpVqfZ9zWwCJWKM5iIijg1FbW1tUVHQCJ/bp02fAgAFvvPFGaWnp/v37+/XrJ/SU/fv3FxYW9u3bt1evXh9//PHRo0f79Olz7Nixv/71r6eeeurJ7XwUANJtERFHB+OEiQPArFmzFi9evGvXriNHjixYsEAUlpeXT548uW/fvr1797722mu/973vDRgw4E9/+tPEiRMN0+nJQi7pL5G40UxExNHBqKuru/rqq0/s3JKSkvvvv7++vr5Pnz4qAOzb3/62qnD11VePGjXq2LFjp556aiKROAndDUdu6y8RDETE0cGora0tLCw84dNjsVj//v2zVIjH420kaISh6+ovkbjRfETE0ZGor6/Py8vr2bNnR3fk5MOvv3TyYdnJu9fZEBFHR6I1Bo4uAUN/iZAziIijI1FXV5fbxKHQyQ2okbjRUkTE0ZGYNGlSR3ehXREZUHMGEXFE6AB0KgNqJG6cACLiiNBh6Az6S8QaJ4aIOCJ0MCL9pSsiIo4InQXtL4BE4sYJg5i5o/sQIUIADAGklYPcf3rEGq1BJHFE6KToVAbUCAZalZ0hQoS2xkMPPSSiTnFSo8gicaOViCSOCF0AkQG1syEijghdCSdFf4nEjdYjIo4IXQ+t8b9ErHFSEBFHhK6KSH/pQETEEaHLo/kCSCRunCxExBEhR9CkABJN7T+JiIgjQq4hiwE1EjdOFqLI0Qi5DF3KiFjjJCKSOCLkMqIUZG2ESOKIECFCixGFnEeIEKHFiIgjQoQILUZEHBEiRGgxIuKI0LVh23bYoYaGhg8++KChoaE9+9NNEHlVInRVrFq16vXXX6+vr7/33ntLSkqMo1VVVYsXL+7Xr9+hQ4fmz58/ePDgDulkriKSOCJ0VaTT6W984xuf/exnA4+uWLGirKzsnnvumTt37sqVK9u5bzmPiDgidFWUlJT07t078NDRo0cPHjw4dOhQAEOGDDl06NDhw4fbt3c5jog4IuQg6uvre/XqZVkWACLq3bv30aNHO7pTOYWIOCJEiNBiRMQRIQfRt2/fjz76SDhcmPnYsWN9+vTp6E7lFCLiiJBT2L9/f319fZ8+fQYMGPDGG2+Ikn79+vXr16+ju5ZTiOaqROiqWL58+euvv/6Xv/ylR48eiUTiBz/4AYDvfOc7kydPHjp0qHDH9u3b98iRIwsWLBg0aFBH9zenEBFHhJxFY2OjkD7i8She6SQjIo4IESK0GJGNI0KECC1GRBwRIkRoMf4/sOuXUbcSWQEAAAAASUVORK5CYII=\"></div>"
      ],
      "text/plain": [
       "-Graphics3D-"
      ]
     },
     "execution_count": 33,
     "metadata": {
      "text/html": [],
      "text/plain": []
     },
     "output_type": "execute_result"
    }
   ],
   "source": [
    "Show[regionPlot, {AxesLabel -> {l, q1, M1}}]"
   ]
  },
  {
   "cell_type": "code",
   "execution_count": 37,
   "metadata": {
    "vscode": {
     "languageId": "wolfram"
    }
   },
   "outputs": [
    {
     "data": {
      "text/html": [
       "<div><pre style=\"&#102;&#111;&#110;&#116;&#45;&#102;&#97;&#109;&#105;&#108;&#121;&#58;&#32;&#34;&#67;&#111;&#117;&#114;&#105;&#101;&#114;&#32;&#78;&#101;&#119;&#34;&#44;&#67;&#111;&#117;&#114;&#105;&#101;&#114;&#44;&#109;&#111;&#110;&#111;&#115;&#112;&#97;&#99;&#101;&#59;\">&#102;&#105;&#103;&#115;&#47;&#99;&#111;&#101;&#120;&#95;&#114;&#101;&#103;&#105;&#111;&#110;&#95;&#51;&#68;&#46;&#108;&#119;&#111;</pre></div>"
      ],
      "text/plain": [
       "figs/coex_region_3D.lwo"
      ]
     },
     "execution_count": 37,
     "metadata": {
      "text/html": [],
      "text/plain": []
     },
     "output_type": "execute_result"
    }
   ],
   "source": [
    "Export[FileNameJoin[{\"figs\", \"coex_region_3D.lwo\"}], Show[regionPlot, {AxesLabel -> {l, q1, M1}}]]"
   ]
  },
  {
   "cell_type": "code",
   "execution_count": null,
   "metadata": {
    "vscode": {
     "languageId": "wolfram"
    }
   },
   "outputs": [
    {
     "ename": "Power::infy",
     "evalue": "                    1\nInfinite expression -- encountered.\n                    0.",
     "output_type": "error",
     "traceback": [
      "\u001b[0;31m                                 1\nPower::infy: Infinite expression -- encountered.\n                                 0.\u001b[0m"
     ]
    },
    {
     "ename": "Infinity::indet",
     "evalue": "Indeterminate expression 0. ComplexInfinity encountered.",
     "output_type": "error",
     "traceback": [
      "\u001b[0;31mInfinity::indet: Indeterminate expression 0. ComplexInfinity encountered.\u001b[0m"
     ]
    },
    {
     "ename": "Power::infy",
     "evalue": "                    1\nInfinite expression -- encountered.\n                    0.",
     "output_type": "error",
     "traceback": [
      "\u001b[0;31m                                 1\nPower::infy: Infinite expression -- encountered.\n                                 0.\u001b[0m"
     ]
    },
    {
     "ename": "Infinity::indet",
     "evalue": "Indeterminate expression 0. ComplexInfinity encountered.",
     "output_type": "error",
     "traceback": [
      "\u001b[0;31mInfinity::indet: Indeterminate expression 0. ComplexInfinity encountered.\u001b[0m"
     ]
    },
    {
     "ename": "Power::infy",
     "evalue": "                    1\nInfinite expression -- encountered.\n                    0.",
     "output_type": "error",
     "traceback": [
      "\u001b[0;31m                                 1\nPower::infy: Infinite expression -- encountered.\n                                 0.\u001b[0m"
     ]
    },
    {
     "ename": "General::stop",
     "evalue": "Further output of Power::infy will be suppressed during this calculation.",
     "output_type": "error",
     "traceback": [
      "\u001b[0;31mGeneral::stop: Further output of Power::infy will be suppressed during this calculation.\u001b[0m"
     ]
    },
    {
     "ename": "Infinity::indet",
     "evalue": "Indeterminate expression 0. ComplexInfinity encountered.",
     "output_type": "error",
     "traceback": [
      "\u001b[0;31mInfinity::indet: Indeterminate expression 0. ComplexInfinity encountered.\u001b[0m"
     ]
    },
    {
     "ename": "General::stop",
     "evalue": "Further output of Infinity::indet will be suppressed during this calculation.",
     "output_type": "error",
     "traceback": [
      "\u001b[0;31mGeneral::stop: Further output of Infinity::indet will be suppressed during this calculation.\u001b[0m"
     ]
    }
   ],
   "source": [
    "fileName = FileNameJoin[{\"figs\", \"coex_region_3D.png\"}]\n",
    "Export[fileName, Show[regionPlot], \"AllowRasterization\" -> True, ImageResolution -> 300];"
   ]
  },
  {
   "attachments": {},
   "cell_type": "markdown",
   "metadata": {},
   "source": [
    "https://mathematica.stackexchange.com/questions/48486/high-quality-regionplot3d-for-logical-combinations-of-predicates"
   ]
  },
  {
   "cell_type": "code",
   "execution_count": null,
   "metadata": {
    "vscode": {
     "languageId": "wolfram"
    }
   },
   "outputs": [],
   "source": []
  }
 ],
 "metadata": {
  "kernelspec": {
   "display_name": "Wolfram Language 11.3",
   "language": "Wolfram Language",
   "name": "wolframlanguage11.3"
  },
  "language_info": {
   "codemirror_mode": "mathematica",
   "file_extension": ".m",
   "mimetype": "application/vnd.wolfram.m",
   "name": "Wolfram Language",
   "pygments_lexer": "mathematica",
   "version": "12.0"
  },
  "orig_nbformat": 4
 },
 "nbformat": 4,
 "nbformat_minor": 2
}
